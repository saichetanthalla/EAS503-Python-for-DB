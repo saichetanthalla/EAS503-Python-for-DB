{
 "cells": [
  {
   "cell_type": "code",
   "execution_count": 4,
   "metadata": {},
   "outputs": [
    {
     "ename": "NameError",
     "evalue": "name 'index' is not defined",
     "output_type": "error",
     "traceback": [
      "\u001b[0;31m---------------------------------------------------------------------------\u001b[0m",
      "\u001b[0;31mNameError\u001b[0m                                 Traceback (most recent call last)",
      "\u001b[0;32m/var/folders/c2/8w8zm3y54dv4brkh8h3y2_k80000gn/T/ipykernel_23655/3049276.py\u001b[0m in \u001b[0;36m<module>\u001b[0;34m\u001b[0m\n\u001b[1;32m      1\u001b[0m \u001b[0ma\u001b[0m\u001b[0;34m=\u001b[0m\u001b[0;34m[\u001b[0m\u001b[0;36m1\u001b[0m\u001b[0;34m,\u001b[0m\u001b[0;36m2\u001b[0m\u001b[0;34m,\u001b[0m\u001b[0;36m3\u001b[0m\u001b[0;34m,\u001b[0m\u001b[0;36m4\u001b[0m\u001b[0;34m,\u001b[0m\u001b[0;36m5\u001b[0m\u001b[0;34m]\u001b[0m\u001b[0;34m\u001b[0m\u001b[0;34m\u001b[0m\u001b[0m\n\u001b[1;32m      2\u001b[0m \u001b[0;32mfor\u001b[0m \u001b[0mi\u001b[0m \u001b[0;32min\u001b[0m \u001b[0mrange\u001b[0m\u001b[0;34m(\u001b[0m\u001b[0mlen\u001b[0m\u001b[0;34m(\u001b[0m\u001b[0ma\u001b[0m\u001b[0;34m)\u001b[0m\u001b[0;34m)\u001b[0m\u001b[0;34m:\u001b[0m\u001b[0;34m\u001b[0m\u001b[0;34m\u001b[0m\u001b[0m\n\u001b[0;32m----> 3\u001b[0;31m     \u001b[0mprint\u001b[0m\u001b[0;34m(\u001b[0m\u001b[0mi\u001b[0m\u001b[0;34m,\u001b[0m \u001b[0ma\u001b[0m\u001b[0;34m[\u001b[0m\u001b[0mindex\u001b[0m\u001b[0;34m]\u001b[0m\u001b[0;34m)\u001b[0m\u001b[0;34m\u001b[0m\u001b[0;34m\u001b[0m\u001b[0m\n\u001b[0m",
      "\u001b[0;31mNameError\u001b[0m: name 'index' is not defined"
     ]
    }
   ],
   "source": [
    "a=[1,2,3,4,5]\n",
    "for i in range(len(a)):\n",
    "    print(i, a[index])"
   ]
  },
  {
   "cell_type": "code",
   "execution_count": null,
   "metadata": {},
   "outputs": [],
   "source": []
  },
  {
   "cell_type": "code",
   "execution_count": 23,
   "metadata": {},
   "outputs": [
    {
     "data": {
      "text/plain": [
       "[0, 1, 2, 3, 4]"
      ]
     },
     "execution_count": 23,
     "metadata": {},
     "output_type": "execute_result"
    }
   ],
   "source": [
    "x=list(range(5))\n",
    "x"
   ]
  },
  {
   "cell_type": "code",
   "execution_count": 6,
   "metadata": {},
   "outputs": [
    {
     "data": {
      "text/plain": [
       "'D'"
      ]
     },
     "execution_count": 6,
     "metadata": {},
     "output_type": "execute_result"
    }
   ],
   "source": [
    "def ex3(score):\n",
    "    # A certain CS professor gives 100-point exams that are graded on the scale 90-100: A, 80-89: B, 70-79: C,\n",
    "    # 69-69: D, < 60: F. Complete this function which accepts an exam score as input and uses a decision structure\n",
    "    # to calculate the corresponding grade.\n",
    "    # BEGIN SOLUTION\n",
    "    if score >=90:\n",
    "        return 'A'\n",
    "    elif score >=80:\n",
    "        return 'B'\n",
    "    elif score >=70:\n",
    "        return 'C'\n",
    "    elif score >=60:\n",
    "        return 'D'\n",
    "    else:\n",
    "        return 'F'\n",
    "ex3(83)"
   ]
  },
  {
   "cell_type": "code",
   "execution_count": 12,
   "metadata": {},
   "outputs": [
    {
     "data": {
      "text/plain": [
       "'Freshman'"
      ]
     },
     "execution_count": 12,
     "metadata": {},
     "output_type": "execute_result"
    }
   ],
   "source": [
    "def ex4(credits):\n",
    "    # A certain college classifies students according to credits earned. A student with less than 7 credits is a Freshman.\n",
    "    # At least 7 credits are required to be a Sophomore, 16  to be a Junior and 26 to be classified as Senior.\n",
    "    # Complete this function which calculates the class standing from the number of credits earned.\n",
    "    # BEGIN SOLUTION\n",
    "    # <7credits  Fresmnen\n",
    "    # >=7 Sophomore\n",
    "    # >=16 Juniour\n",
    "    # >=26 \n",
    "    if credits < 7:\n",
    "        return 'Freshman'\n",
    "    elif credits >=26:\n",
    "        return 'Senior'\n",
    "    elif credits >=16:\n",
    "        return 'Junior'\n",
    "    else:\n",
    "        return 'Sophomore'\n",
    "ex4()"
   ]
  },
  {
   "cell_type": "code",
   "execution_count": 24,
   "metadata": {},
   "outputs": [
    {
     "data": {
      "text/plain": [
       "[0, 2, 4, 6, 8]"
      ]
     },
     "execution_count": 24,
     "metadata": {},
     "output_type": "execute_result"
    }
   ],
   "source": [
    "for i,j in  enumerate(x):\n",
    "    x[i]=x[i]*2\n",
    "x"
   ]
  },
  {
   "cell_type": "code",
   "execution_count": 13,
   "metadata": {},
   "outputs": [],
   "source": [
    "for k in x:\n",
    "    k=k*2"
   ]
  },
  {
   "cell_type": "code",
   "execution_count": 22,
   "metadata": {},
   "outputs": [
    {
     "data": {
      "text/plain": [
       "True"
      ]
     },
     "execution_count": 22,
     "metadata": {},
     "output_type": "execute_result"
    }
   ],
   "source": [
    "'March' > 'January'"
   ]
  },
  {
   "cell_type": "code",
   "execution_count": 27,
   "metadata": {},
   "outputs": [
    {
     "name": "stdout",
     "output_type": "stream",
     "text": [
      "0\n",
      "2\n",
      "4\n",
      "6\n",
      "8\n"
     ]
    }
   ],
   "source": [
    "for u in x:\n",
    "    print(u)"
   ]
  },
  {
   "cell_type": "code",
   "execution_count": 30,
   "metadata": {},
   "outputs": [
    {
     "name": "stdout",
     "output_type": "stream",
     "text": [
      "8\n"
     ]
    }
   ],
   "source": [
    "print(u)"
   ]
  },
  {
   "cell_type": "code",
   "execution_count": 31,
   "metadata": {},
   "outputs": [
    {
     "name": "stdout",
     "output_type": "stream",
     "text": [
      "0 0 0\n",
      "1 1 1\n",
      "2 2 2\n",
      "3 3 3\n",
      "4 4 4\n"
     ]
    }
   ],
   "source": [
    "for i,j,k in zip(range(5),range(5),range(5)):\n",
    "    print(i,j,k)"
   ]
  },
  {
   "cell_type": "code",
   "execution_count": 35,
   "metadata": {},
   "outputs": [],
   "source": [
    "c=tuple(zip(range(5),range(5),range(5)))"
   ]
  },
  {
   "cell_type": "code",
   "execution_count": 36,
   "metadata": {},
   "outputs": [
    {
     "name": "stdout",
     "output_type": "stream",
     "text": [
      "(0, 0, 0)\n",
      "(1, 1, 1)\n",
      "(2, 2, 2)\n",
      "(3, 3, 3)\n",
      "(4, 4, 4)\n"
     ]
    }
   ],
   "source": [
    "for i in c:\n",
    "    print(i)"
   ]
  },
  {
   "cell_type": "code",
   "execution_count": 38,
   "metadata": {},
   "outputs": [
    {
     "data": {
      "text/plain": [
       "[1, 2, 3, 4, 5]"
      ]
     },
     "execution_count": 38,
     "metadata": {},
     "output_type": "execute_result"
    }
   ],
   "source": [
    "a=[1,1,1,2,3,3,4,5,2]\n",
    "b=[]\n",
    "for i in a:\n",
    "    if i not in b:\n",
    "        b.append(i)\n",
    "b\n"
   ]
  },
  {
   "cell_type": "code",
   "execution_count": 15,
   "metadata": {},
   "outputs": [
    {
     "data": {
      "text/plain": [
       "'Legal'"
      ]
     },
     "execution_count": 15,
     "metadata": {},
     "output_type": "execute_result"
    }
   ],
   "source": [
    "def ex5(limit, speed):\n",
    "    # The speeding ticket fine policy in Podunksville is $50 plus $5 for each mph over the limit plus a\n",
    "    # penalty of $200 for any speed over 90 mph. Complete this function which accepts a speed limit and a clocked\n",
    "    # speed and either return the string `Legal` or the amount of fine, if the speed is illegal.\n",
    "    # BEGIN SOLUTION\n",
    "    if speed < limit:\n",
    "        return 'Legal'\n",
    "    else:\n",
    "        extra_speed = speed - limit\n",
    "        fine = (extra_speed * 5)+50\n",
    "        if speed > 90:\n",
    "            fine+=200\n",
    "            return fine\n",
    "        return fine\n",
    "ex5(55, 45)"
   ]
  },
  {
   "cell_type": "code",
   "execution_count": 19,
   "metadata": {},
   "outputs": [],
   "source": [
    "d='fKJFJRJjj'\n",
    "d=d.lower()"
   ]
  },
  {
   "cell_type": "code",
   "execution_count": 20,
   "metadata": {},
   "outputs": [
    {
     "data": {
      "text/plain": [
       "'fkjfjrjjj'"
      ]
     },
     "execution_count": 20,
     "metadata": {},
     "output_type": "execute_result"
    }
   ],
   "source": [
    "d"
   ]
  },
  {
   "cell_type": "code",
   "execution_count": 35,
   "metadata": {},
   "outputs": [],
   "source": [
    "def ex7(month, day):\n",
    "    \n",
    "    # Month_Dicto = {'January':1,'February':2,'March':3,'April':4,'May':5,'June':6,'July':7,'August':8,'September':9,'October':10,'November':11,'December':12}\n",
    "    # if month_dicto [month] >= 3 and day >\n",
    "\n",
    "    # Month_Dicto = {'January':1,'February':2,'March':3,'April':4,'May':5,'June':6,'July':7,'August':8,'September':9,'October':10,'November':11,'December':12}\n",
    "    # if month_dicto [month] >= 3 and day >\n",
    "\n",
    "    if  3 <= Month_Dicto[month] <= 6:\n",
    "        if (Month_Dicto[month] ==3 and day >= 20) or (Month_Dicto[month] <=6 and day <= 20):\n",
    "            return 'Spring'\n",
    "\n",
    "    elif  6 <= Month_Dicto[month] <= 9:\n",
    "        if (Month_Dicto[month] ==6 and day >= 21) or (Month_Dicto[month] <=9 and day <= 21):\n",
    "            return 'Summer'\n",
    "    elif  9 <= Month_Dicto[month] <= 12:\n",
    "        if (Month_Dicto[month] ==9 and day >= 22) or (Month_Dicto[month] <=12 and day <= 20):\n",
    "            return 'Fall'\n",
    "\n",
    "    else:\n",
    "        return 'Winter'\n",
    "ex7('May',21)"
   ]
  },
  {
   "cell_type": "code",
   "execution_count": 43,
   "metadata": {},
   "outputs": [
    {
     "data": {
      "text/plain": [
       "False"
      ]
     },
     "execution_count": 43,
     "metadata": {},
     "output_type": "execute_result"
    }
   ],
   "source": [
    "def ex8(year):\n",
    "    # Complete this function to check if year is a leap year\n",
    "    # Input: year\n",
    "    # Output: True or False (Boolean)\n",
    "\n",
    "    # BEGIN SOLUTION\n",
    "    year=str(year)\n",
    "    return int(year[:2])%4==0 and int(year[2:])%4==0\n",
    "ex8(1800)"
   ]
  },
  {
   "cell_type": "code",
   "execution_count": 42,
   "metadata": {},
   "outputs": [
    {
     "ename": "TypeError",
     "evalue": "'int' object is not subscriptable",
     "output_type": "error",
     "traceback": [
      "\u001b[0;31m---------------------------------------------------------------------------\u001b[0m",
      "\u001b[0;31mTypeError\u001b[0m                                 Traceback (most recent call last)",
      "\u001b[0;32m/var/folders/c2/8w8zm3y54dv4brkh8h3y2_k80000gn/T/ipykernel_4849/1910779762.py\u001b[0m in \u001b[0;36m<module>\u001b[0;34m\u001b[0m\n\u001b[1;32m      1\u001b[0m \u001b[0mh\u001b[0m\u001b[0;34m=\u001b[0m\u001b[0;36m999\u001b[0m\u001b[0;34m\u001b[0m\u001b[0;34m\u001b[0m\u001b[0m\n\u001b[0;32m----> 2\u001b[0;31m \u001b[0mh\u001b[0m\u001b[0;34m[\u001b[0m\u001b[0;34m:\u001b[0m\u001b[0;36m1\u001b[0m\u001b[0;34m]\u001b[0m\u001b[0;34m\u001b[0m\u001b[0;34m\u001b[0m\u001b[0m\n\u001b[0m",
      "\u001b[0;31mTypeError\u001b[0m: 'int' object is not subscriptable"
     ]
    }
   ],
   "source": [
    "h=999\n",
    "h[:1]"
   ]
  },
  {
   "cell_type": "code",
   "execution_count": 47,
   "metadata": {},
   "outputs": [
    {
     "data": {
      "text/plain": [
       "['02', '02', '1990']"
      ]
     },
     "execution_count": 47,
     "metadata": {},
     "output_type": "execute_result"
    }
   ],
   "source": [
    "date='02/02/1990'\n",
    "\n",
    "date=date.split('/')\n",
    "date\n"
   ]
  },
  {
   "cell_type": "code",
   "execution_count": 54,
   "metadata": {},
   "outputs": [
    {
     "name": "stdout",
     "output_type": "stream",
     "text": [
      "[2, 2, 1990]\n"
     ]
    },
    {
     "data": {
      "text/plain": [
       "False"
      ]
     },
     "execution_count": 54,
     "metadata": {},
     "output_type": "execute_result"
    }
   ],
   "source": [
    "def ex12(date):\n",
    "    # A magic date is a date where the day multiplied by the month is equal\n",
    "    # to the two digit year. For example, June 10, 1960 is a magic date because\n",
    "    # June is the sixth month, and 6 times 10 is 60, which is equal to the two\n",
    "    # digit year. Complete this function to determine whether or not a date is\n",
    "    # a magic date.\n",
    "\n",
    "    # input: date (str -- month/day/year) -- e.g., 06/01/2022 -- will have leading zero before month and day\n",
    "    # output: True or False (bool)\n",
    "    # Hint: use string indexing to extract the month, day, and year from the date string\n",
    "\n",
    "    # BEGIN SOLUTION\n",
    "    date=date.split('/')\n",
    "    len_date=len(date)\n",
    "    for i in range(len_date):\n",
    "        date[i]=int(date[i])\n",
    "    print(date)\n",
    "    if date[0]*date[1] == date[2]%100:\n",
    "        return True\n",
    "    else:\n",
    "        return False\n",
    "ex12('02/02/1990')"
   ]
  },
  {
   "cell_type": "code",
   "execution_count": 55,
   "metadata": {},
   "outputs": [
    {
     "data": {
      "text/plain": [
       "3"
      ]
     },
     "execution_count": 55,
     "metadata": {},
     "output_type": "execute_result"
    }
   ],
   "source": [
    "f='lll'\n",
    "len(f)"
   ]
  },
  {
   "cell_type": "code",
   "execution_count": 61,
   "metadata": {},
   "outputs": [
    {
     "name": "stdout",
     "output_type": "stream",
     "text": [
      "0\n"
     ]
    },
    {
     "data": {
      "text/plain": [
       "'Older/Valid'"
      ]
     },
     "execution_count": 61,
     "metadata": {},
     "output_type": "execute_result"
    }
   ],
   "source": [
    "def ex11(plate):\n",
    "\n",
    "    # In a particular jurisdiction, older license plates consist of three uppercase\n",
    "    # letters followed by three digits. When all of the license plates following\n",
    "    # that pattern had been used, the format was changed to four digits followed by\n",
    "    # three uppercase letters.\n",
    "\n",
    "    # Complete this function whose only input is a license plate and its output\n",
    "    # is: 1) Older/Valid 2) Newer/Valid 3) Invalid\n",
    "    # input: plate (str)\n",
    "    # output: 'Older/Valid' or 'Newer/Valid' or 'Invalid'\n",
    "    # HINT: Use the comparator operators (>=, <=)!\n",
    "\n",
    "    # BEGIN SOLUTION\n",
    "    if len(plate)==6:\n",
    "        if plate[:3].upper()!=plate[:3]:\n",
    "            return 'Invalid'\n",
    "        else:\n",
    "            return 'Older/Valid'\n",
    "       \n",
    "    else:\n",
    "        print(0)\n",
    "        if plate[4:].upper()!=plate[4:]:\n",
    "            return 'Invalid'\n",
    "        else:\n",
    "            return 'Newer/Valid'\n",
    "ex11('1934ABT')"
   ]
  },
  {
   "cell_type": "code",
   "execution_count": 73,
   "metadata": {},
   "outputs": [
    {
     "name": "stdout",
     "output_type": "stream",
     "text": [
      "0\n"
     ]
    },
    {
     "data": {
      "text/plain": [
       "False"
      ]
     },
     "execution_count": 73,
     "metadata": {},
     "output_type": "execute_result"
    }
   ],
   "source": [
    "def ex9(month, day, year):\n",
    "    # Complete this function to check if a data is valid, given month, day, and year.\n",
    "    # For example, 5/24/1962 is valid, but 9/31/2000 is not\n",
    "    # Inputs: month, day, year\n",
    "    # Output: True or False (Boolean)\n",
    "    # IMPORTANT: Use the function ex8() to determine if year is leap year\n",
    "\n",
    "    # BEGIN SOLUTION\n",
    "    if month==2 and day>=29:\n",
    "        return True\n",
    "    if month<=7:\n",
    "        if month%2!=0 and day<=30:\n",
    "            return True\n",
    "        elif month%2==0 and day<=31:\n",
    "            return True\n",
    "    else:\n",
    "        print(0)\n",
    "        if month%2!=0 and day<=30:\n",
    "            return True\n",
    "        elif month%2==0 and day<=31:\n",
    "            print(8)\n",
    "            return True\n",
    "        else:\n",
    "            return False\n",
    "    # else:\n",
    "    #     print(1)\n",
    "    #     if month==2 and day>28:\n",
    "    #         return False\n",
    "    #     if month==8 and day >31:\n",
    "    #         return False\n",
    "\n",
    "    #     else:\n",
    "    #         if month%2!=0 and day<30:\n",
    "    #             return True\n",
    "    #         elif month%2==0 and day<30:\n",
    "    #             return True\n",
    "ex9(9, 31, 2000)"
   ]
  },
  {
   "cell_type": "code",
   "execution_count": null,
   "metadata": {},
   "outputs": [],
   "source": [
    "#****************************************************************************   new_class **********************************************************************************"
   ]
  },
  {
   "cell_type": "code",
   "execution_count": 2,
   "metadata": {},
   "outputs": [],
   "source": [
    "x=[1,2,3,4]\n",
    "out= [i*i for i in x]"
   ]
  },
  {
   "cell_type": "code",
   "execution_count": 3,
   "metadata": {},
   "outputs": [
    {
     "data": {
      "text/plain": [
       "[1, 4, 9, 16]"
      ]
     },
     "execution_count": 3,
     "metadata": {},
     "output_type": "execute_result"
    }
   ],
   "source": [
    "out"
   ]
  },
  {
   "cell_type": "code",
   "execution_count": 4,
   "metadata": {},
   "outputs": [],
   "source": [
    "x=['a','f','f']\n",
    "upp= [i.upper() for i in x]\n"
   ]
  },
  {
   "cell_type": "code",
   "execution_count": 5,
   "metadata": {},
   "outputs": [
    {
     "data": {
      "text/plain": [
       "['A', 'F', 'F']"
      ]
     },
     "execution_count": 5,
     "metadata": {},
     "output_type": "execute_result"
    }
   ],
   "source": [
    "upp"
   ]
  },
  {
   "cell_type": "code",
   "execution_count": 6,
   "metadata": {},
   "outputs": [],
   "source": [
    "out=[i*i for i in x if i!=i]"
   ]
  },
  {
   "cell_type": "code",
   "execution_count": 7,
   "metadata": {},
   "outputs": [
    {
     "data": {
      "text/plain": [
       "[]"
      ]
     },
     "execution_count": 7,
     "metadata": {},
     "output_type": "execute_result"
    }
   ],
   "source": [
    "out"
   ]
  },
  {
   "cell_type": "code",
   "execution_count": 10,
   "metadata": {},
   "outputs": [],
   "source": [
    "out=[]\n",
    "for i in x:\n",
    "    if i!='a':\n",
    "        continue\n",
    "    else:\n",
    "        out.append(i)\n"
   ]
  },
  {
   "cell_type": "code",
   "execution_count": 11,
   "metadata": {},
   "outputs": [
    {
     "data": {
      "text/plain": [
       "['a']"
      ]
     },
     "execution_count": 11,
     "metadata": {},
     "output_type": "execute_result"
    }
   ],
   "source": [
    "out"
   ]
  },
  {
   "cell_type": "code",
   "execution_count": 13,
   "metadata": {},
   "outputs": [
    {
     "data": {
      "text/plain": [
       "[1, 4, 9]"
      ]
     },
     "execution_count": 13,
     "metadata": {},
     "output_type": "execute_result"
    }
   ],
   "source": [
    "my_list = [1, 2, 3]\n",
    "new_list = []\n",
    "for ele in my_list:\n",
    "    tmp = ele * ele\n",
    "    new_list.append(tmp)\n",
    "\n",
    "temp=[ele*ele for ele in my_list]\n",
    "temp"
   ]
  },
  {
   "cell_type": "code",
   "execution_count": 14,
   "metadata": {},
   "outputs": [
    {
     "data": {
      "text/plain": [
       "['B', 'U', 'F', 'F', 'A', 'L', 'O']"
      ]
     },
     "execution_count": 14,
     "metadata": {},
     "output_type": "execute_result"
    }
   ],
   "source": [
    "animal = 'buffalo'\n",
    "out=[a.upper() for a in animal]\n",
    "out"
   ]
  },
  {
   "cell_type": "code",
   "execution_count": 16,
   "metadata": {},
   "outputs": [
    {
     "data": {
      "text/plain": [
       "['Jo Hn', 'Ja Ne', 'D Oe']"
      ]
     },
     "execution_count": 16,
     "metadata": {},
     "output_type": "execute_result"
    }
   ],
   "source": [
    "students = ['jo hn', 'ja ne', 'd oe']\n",
    "out=[i.title() for i in students]\n",
    "out"
   ]
  },
  {
   "cell_type": "code",
   "execution_count": 18,
   "metadata": {},
   "outputs": [
    {
     "data": {
      "text/plain": [
       "[False, False, False, True]"
      ]
     },
     "execution_count": 18,
     "metadata": {},
     "output_type": "execute_result"
    }
   ],
   "source": [
    "my_list = [0, '', [],9]\n",
    "out=[bool(i) for i in my_list]\n",
    "out"
   ]
  },
  {
   "cell_type": "code",
   "execution_count": 19,
   "metadata": {},
   "outputs": [
    {
     "data": {
      "text/plain": [
       "['0', '1', '2', '3', '4', '5']"
      ]
     },
     "execution_count": 19,
     "metadata": {},
     "output_type": "execute_result"
    }
   ],
   "source": [
    "my_list = range(6)\n",
    "out=[str(i) for i in my_list]\n",
    "out"
   ]
  },
  {
   "cell_type": "code",
   "execution_count": 22,
   "metadata": {},
   "outputs": [
    {
     "data": {
      "text/plain": [
       "[0, 2, 4, 6, 8, 10, 12, 14, 16, 18]"
      ]
     },
     "execution_count": 22,
     "metadata": {},
     "output_type": "execute_result"
    }
   ],
   "source": [
    "numbers = range(20)\n",
    "out=[n for n in numbers if n%2==0]\n",
    "out"
   ]
  },
  {
   "cell_type": "code",
   "execution_count": null,
   "metadata": {},
   "outputs": [],
   "source": [
    "sentence = 'I rEAlly want to gO to work'\n",
    "ov='aeiou'\n",
    "out=[s for s in students if  ]"
   ]
  },
  {
   "cell_type": "code",
   "execution_count": 23,
   "metadata": {},
   "outputs": [
    {
     "data": {
      "text/plain": [
       "{1, 2, 3, 4}"
      ]
     },
     "execution_count": 23,
     "metadata": {},
     "output_type": "execute_result"
    }
   ],
   "source": [
    "a={1,2,3,4,5,6}\n",
    "b={5,6,7,8,9,0}\n",
    "a-b"
   ]
  },
  {
   "cell_type": "code",
   "execution_count": 25,
   "metadata": {},
   "outputs": [
    {
     "ename": "TypeError",
     "evalue": "unsupported operand type(s) for -: 'list' and 'list'",
     "output_type": "error",
     "traceback": [
      "\u001b[0;31m---------------------------------------------------------------------------\u001b[0m",
      "\u001b[0;31mTypeError\u001b[0m                                 Traceback (most recent call last)",
      "\u001b[0;32m/var/folders/c2/8w8zm3y54dv4brkh8h3y2_k80000gn/T/ipykernel_26602/2420475327.py\u001b[0m in \u001b[0;36m<module>\u001b[0;34m\u001b[0m\n\u001b[1;32m      1\u001b[0m \u001b[0ma\u001b[0m\u001b[0;34m=\u001b[0m\u001b[0;34m[\u001b[0m\u001b[0;36m1\u001b[0m\u001b[0;34m,\u001b[0m\u001b[0;36m2\u001b[0m\u001b[0;34m,\u001b[0m\u001b[0;36m3\u001b[0m\u001b[0;34m,\u001b[0m\u001b[0;36m4\u001b[0m\u001b[0;34m,\u001b[0m\u001b[0;36m5\u001b[0m\u001b[0;34m,\u001b[0m\u001b[0;36m6\u001b[0m\u001b[0;34m]\u001b[0m\u001b[0;34m\u001b[0m\u001b[0;34m\u001b[0m\u001b[0m\n\u001b[1;32m      2\u001b[0m \u001b[0mb\u001b[0m\u001b[0;34m=\u001b[0m\u001b[0;34m[\u001b[0m\u001b[0;36m5\u001b[0m\u001b[0;34m,\u001b[0m\u001b[0;36m6\u001b[0m\u001b[0;34m,\u001b[0m\u001b[0;36m7\u001b[0m\u001b[0;34m,\u001b[0m\u001b[0;36m8\u001b[0m\u001b[0;34m,\u001b[0m\u001b[0;36m9\u001b[0m\u001b[0;34m,\u001b[0m\u001b[0;36m0\u001b[0m\u001b[0;34m]\u001b[0m\u001b[0;34m\u001b[0m\u001b[0;34m\u001b[0m\u001b[0m\n\u001b[0;32m----> 3\u001b[0;31m \u001b[0ma\u001b[0m\u001b[0;34m-\u001b[0m\u001b[0mb\u001b[0m\u001b[0;34m\u001b[0m\u001b[0;34m\u001b[0m\u001b[0m\n\u001b[0m",
      "\u001b[0;31mTypeError\u001b[0m: unsupported operand type(s) for -: 'list' and 'list'"
     ]
    }
   ],
   "source": [
    "  "
   ]
  },
  {
   "cell_type": "code",
   "execution_count": null,
   "metadata": {},
   "outputs": [],
   "source": []
  },
  {
   "cell_type": "code",
   "execution_count": 28,
   "metadata": {},
   "outputs": [
    {
     "name": "stdout",
     "output_type": "stream",
     "text": [
      "\n",
      "\n",
      "\n",
      "\n",
      "\n",
      "\n",
      "-1\n"
     ]
    }
   ],
   "source": [
    "n = -55555\n",
    "\n",
    "def retmin(a):\n",
    "    current_str = str(a)\n",
    "    bPositive = (int(current_str) > 0)\n",
    "    if bPositive: \n",
    "        current_max = -1\n",
    "    else:\n",
    "        current_max = 1\n",
    "    # Loop thru sting from back\n",
    "    for index, elem in enumerate(current_str):\n",
    "        print()\n",
    "        if(elem == '5'):\n",
    "            # ctor new string\n",
    "            buf = current_str[:index]+current_str[index+1:]\n",
    "            if(bPositive): \n",
    "                current_max = max(int(buf), current_max)\n",
    "            else:\n",
    "                current_max = min(int(buf), current_max)\n",
    "            \n",
    "    return current_max\n",
    "    \n",
    "print(retmin(n))\n",
    "        \n",
    "    "
   ]
  }
 ],
 "metadata": {
  "interpreter": {
   "hash": "c3bfd3241e66b266dff4acbb1f08962ccc1d05281c5a6d6f8757664838673e4b"
  },
  "kernelspec": {
   "display_name": "Python 3.9.7 ('base')",
   "language": "python",
   "name": "python3"
  },
  "language_info": {
   "codemirror_mode": {
    "name": "ipython",
    "version": 3
   },
   "file_extension": ".py",
   "mimetype": "text/x-python",
   "name": "python",
   "nbconvert_exporter": "python",
   "pygments_lexer": "ipython3",
   "version": "3.9.7"
  },
  "orig_nbformat": 4
 },
 "nbformat": 4,
 "nbformat_minor": 2
}
