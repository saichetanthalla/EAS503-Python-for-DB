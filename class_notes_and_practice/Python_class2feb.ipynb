{
 "cells": [
  {
   "cell_type": "code",
   "execution_count": 16,
   "id": "c9f425bf",
   "metadata": {},
   "outputs": [],
   "source": [
    "def ee():\n",
    "    return True"
   ]
  },
  {
   "cell_type": "code",
   "execution_count": 12,
   "id": "adb74184",
   "metadata": {},
   "outputs": [
    {
     "data": {
      "text/plain": [
       "'p'"
      ]
     },
     "execution_count": 12,
     "metadata": {},
     "output_type": "execute_result"
    }
   ],
   "source": [
    "str('p')"
   ]
  },
  {
   "cell_type": "code",
   "execution_count": 13,
   "id": "d3b6bf7d",
   "metadata": {},
   "outputs": [
    {
     "ename": "TypeError",
     "evalue": "'int' object is not callable",
     "output_type": "error",
     "traceback": [
      "\u001b[0;31m---------------------------------------------------------------------------\u001b[0m",
      "\u001b[0;31mTypeError\u001b[0m                                 Traceback (most recent call last)",
      "\u001b[0;32m/var/folders/c2/8w8zm3y54dv4brkh8h3y2_k80000gn/T/ipykernel_10083/2111254287.py\u001b[0m in \u001b[0;36m<module>\u001b[0;34m\u001b[0m\n\u001b[1;32m      1\u001b[0m \u001b[0mstr\u001b[0m\u001b[0;34m=\u001b[0m\u001b[0;36m1\u001b[0m\u001b[0;34m\u001b[0m\u001b[0;34m\u001b[0m\u001b[0m\n\u001b[0;32m----> 2\u001b[0;31m \u001b[0mstr\u001b[0m\u001b[0;34m(\u001b[0m\u001b[0;34m'e'\u001b[0m\u001b[0;34m)\u001b[0m\u001b[0;34m\u001b[0m\u001b[0;34m\u001b[0m\u001b[0m\n\u001b[0m",
      "\u001b[0;31mTypeError\u001b[0m: 'int' object is not callable"
     ]
    }
   ],
   "source": [
    "str=1\n",
    "str('e')"
   ]
  },
  {
   "cell_type": "code",
   "execution_count": null,
   "id": "8bb0fd27",
   "metadata": {},
   "outputs": [],
   "source": []
  },
  {
   "cell_type": "code",
   "execution_count": 172,
   "id": "a5214040",
   "metadata": {
    "scrolled": true
   },
   "outputs": [
    {
     "name": "stdout",
     "output_type": "stream",
     "text": [
      "+---------------------------------------------------+\n",
      "|               Cereal Yields (kg/ha)               |\n",
      "+---------------+--------+--------+--------+--------+\n",
      "|    Country    |   1    |   2    |   3    |   4    |\n",
      "+---------------+--------+--------+--------+--------+\n",
      "| China         |  2,937 |  4,321 |  4,752 |  5,527 |\n",
      "| Germany       |  4,225 |  5,411 |  6,453 |  6,718 |\n",
      "| United States |  3,772 |  4,755 |  5,854 |  6,988 |\n",
      "+---------------+--------+--------+--------+--------+\n"
     ]
    }
   ],
   "source": [
    "yy=[2937, 4321, 4752, 5527]\n",
    "title = '|' + '{:^51}'.format('Cereal Yields (kg/ha)') + '|'\n",
    "line = '+' + '-'*15 + '+' + ('-'*8 + '+')*4\n",
    "row = '| {:<13} |' + ' {:6,d} |'*4\n",
    "header = '| {:^13s} |'.format('Country') + (' {:^6} |'*4).format(1,2,3,4)\n",
    "# header=f\"|{\"country\" :^{len(\"country\")}}|\"\n",
    "\n",
    "file_content = '\\n'.join(('+' + '-'*(len(title)-2) + '+',\n",
    "      title,\n",
    "      line,\n",
    "      header,\n",
    "      line,\n",
    "      row.format('China', 2937, 4321, 4752, 5527),\n",
    "      row.format('Germany', 4225, 5411, 6453, 6718),\n",
    "      row.format('United States', 3772, 4755, 5854, 6988),\n",
    "      line))\n",
    "print(file_content)\n"
   ]
  },
  {
   "cell_type": "code",
   "execution_count": 129,
   "id": "ddba8ddf",
   "metadata": {},
   "outputs": [
    {
     "data": {
      "text/plain": [
       "['China', 2937, 4321, 4752, 5527]"
      ]
     },
     "execution_count": 129,
     "metadata": {},
     "output_type": "execute_result"
    }
   ],
   "source": [
    "table_data=('Symbol', 'Name', 'Last', 'Change', 'Share Volume')\n",
    "row = '| {:<13} |' + ' {:6,d} |'*4\n",
    "row=format('China', 2937, 4321, 4752, 5527)"
   ]
  },
  {
   "cell_type": "code",
   "execution_count": 171,
   "id": "0c7c0536",
   "metadata": {},
   "outputs": [
    {
     "data": {
      "text/plain": [
       "['|',\n",
       " ' ',\n",
       " 'C',\n",
       " 'h',\n",
       " 'i',\n",
       " 'n',\n",
       " 'a',\n",
       " ' ',\n",
       " '|',\n",
       " '|',\n",
       " ' ',\n",
       " '2',\n",
       " '9',\n",
       " '3',\n",
       " '7',\n",
       " ' ',\n",
       " '|',\n",
       " '|',\n",
       " ' ',\n",
       " '4',\n",
       " '3',\n",
       " '2',\n",
       " '1',\n",
       " ' ',\n",
       " '|',\n",
       " '|',\n",
       " ' ',\n",
       " '4',\n",
       " '7',\n",
       " '5',\n",
       " '2',\n",
       " ' ',\n",
       " '|',\n",
       " '|',\n",
       " ' ',\n",
       " '5',\n",
       " '5',\n",
       " '2',\n",
       " '7',\n",
       " ' ',\n",
       " '|']"
      ]
     },
     "execution_count": 171,
     "metadata": {},
     "output_type": "execute_result"
    }
   ],
   "source": [
    "q=('China', 2937, 4321, 4752, 5527)\n",
    "p=[]\n",
    "for qq in q:\n",
    "    p+=f'|{qq:^{len(str(qq))+2}}|'"
   ]
  },
  {
   "cell_type": "code",
   "execution_count": 124,
   "id": "c3658aa1",
   "metadata": {},
   "outputs": [
    {
     "name": "stdout",
     "output_type": "stream",
     "text": [
      "|                 MOST ACTIVE BY SHARE VOLUME                  |\n",
      "|                 MOST ACTIVE BY SHARE VOLUME                  |\n",
      "|                 MOST ACTIVE BY SHARE VOLUME                  |\n"
     ]
    }
   ],
   "source": [
    "title = 'MOST ACTIVE BY SHARE VOLUME'\n",
    "table_data=('Symbol', 'Name', 'Last', 'Change', 'Share Volume')\n",
    "data=(('China', 2937, 4321, 4752, 5527),('Germany', 4225, 5411, 6453, 6718),('United States', 3772, 4755, 5854, 6988))\n",
    "\n",
    "\n",
    "\n",
    "# line = '*' + '-'*15 + '+' + ('-'*8 + '+')*len(table_data)\n",
    "# line_len=len(line)\n",
    "# title= f\"|{title :^{line_len}}|\"\n",
    "\n",
    "for j in data:\n",
    "    for m in j:\n",
    "        row = '| {:<13} |' + ' {:6,d} |'*len(table_data)\n",
    "        row= f\"|{title :<len|\"\n",
    "        print(row)\n",
    "# header = '| {:^13s} |'.format('Country') + (' {:^6d} |'*4).format(1980, 1990,\n",
    "#                                                                   2000, 2010)\n",
    "# file_content = '\\n'.join(('-'*(len(title)),title))#,line,header,line))\n",
    "# for line in data:\n",
    "#     file_content.join(row.format('Germany', 4225, 5411, 6453, 6718))\n",
    "# row.format(line),\n",
    "#       row.format('Germany', 4225, 5411, 6453, 6718),\n",
    "#       row.format('United States', 3772, 4755, 5854, 6988)\n",
    "\n",
    "# print(file_content)"
   ]
  },
  {
   "cell_type": "code",
   "execution_count": 54,
   "id": "c9edfec3",
   "metadata": {},
   "outputs": [
    {
     "data": {
      "text/plain": [
       "'| {:<13} | {:6,d} | {:6,d} | {:6,d} | {:6,d} | {:6,d} |'"
      ]
     },
     "execution_count": 54,
     "metadata": {},
     "output_type": "execute_result"
    }
   ],
   "source": [
    "row"
   ]
  },
  {
   "cell_type": "code",
   "execution_count": null,
   "id": "1fa612f7",
   "metadata": {},
   "outputs": [],
   "source": []
  },
  {
   "cell_type": "code",
   "execution_count": 98,
   "id": "244016d9",
   "metadata": {},
   "outputs": [
    {
     "name": "stdout",
     "output_type": "stream",
     "text": [
      "|   Centered Text    |\n"
     ]
    }
   ],
   "source": [
    "# assigning strings to the variables\n",
    "left_alignment = \"Left Text\"\n",
    "center_alignment = \"Centered Text\"\n",
    "right_alignment = \"Right Text\"\n",
    "i=20\n",
    "# printing out aligned text\n",
    "print(f\"{left_alignment : <{i}}{center_alignment : ^15}{right_alignment : >20}\")\n",
    "\n"
   ]
  },
  {
   "cell_type": "code",
   "execution_count": 4,
   "id": "b36ce593",
   "metadata": {},
   "outputs": [
    {
     "ename": "SyntaxError",
     "evalue": "invalid syntax (1195757191.py, line 1)",
     "output_type": "error",
     "traceback": [
      "\u001b[0;36m  File \u001b[0;32m\"/var/folders/c2/8w8zm3y54dv4brkh8h3y2_k80000gn/T/ipykernel_60942/1195757191.py\"\u001b[0;36m, line \u001b[0;32m1\u001b[0m\n\u001b[0;31m    dict{\"a\":\"w\"}\u001b[0m\n\u001b[0m        ^\u001b[0m\n\u001b[0;31mSyntaxError\u001b[0m\u001b[0;31m:\u001b[0m invalid syntax\n"
     ]
    }
   ],
   "source": [
    "dict{\"a\":\"w\"}"
   ]
  },
  {
   "cell_type": "code",
   "execution_count": 17,
   "id": "57822bf2",
   "metadata": {},
   "outputs": [
    {
     "name": "stdout",
     "output_type": "stream",
     "text": [
      "[12, 7, 7, 9, 9, 7]\n",
      "10\n"
     ]
    }
   ],
   "source": [
    "\n",
    "\n",
    "title ='Student Grades'\n",
    "# table_data=('Symbol', 'Name', 'Last', 'Change', 'Share Volume')\n",
    "table_data=('Student ID', 'Test1', 'Test2','Midterm', 'Quizzes', 'Final')\n",
    "data = (\n",
    "            (2014255, 55, 78, 63, 50, 80),\n",
    "            (2014301, 83, 45, 88, 52, 47),\n",
    "            (2014023, 75, 70, 42, 74, 63),\n",
    "            (2014155, 67, 87, 54, 87, 86),\n",
    "        )\n",
    "\n",
    "\n",
    "heading_length=[]\n",
    "for i in range(len(table_data)):\n",
    "    heading_length.append(len(str(table_data[i])))\n",
    "heading_length\n",
    "\n",
    "record_length=[0]*len(table_data)\n",
    "for i in data:\n",
    "    for j in range(len(i)):\n",
    "        # print(i[j])\n",
    "        record_length[j]=max(record_length[j],len(str(i[j])))\n",
    "\n",
    "final_len=[]\n",
    "final_list=list(zip(heading_length,record_length))\n",
    "for i in final_list:\n",
    "    # print(max(i))\n",
    "    final_len.append(max(i)+2)\n",
    "final_len\n",
    "# print(sum(final_len)+ (len(final_len)*2))\n",
    "print(final_len)\n",
    "total_len=6+len(data)\n",
    "print(total_len)\n",
    "\n",
    "row_outline=''\n",
    "for b in final_len:\n",
    "    row_outline+='+'+('-'*b)\n",
    "row_outline+='+'\n",
    "\n",
    "rows_cumi=[]\n",
    "for t in data:\n",
    "    rows=''\n",
    "    for cell in range(len(t)):\n",
    "        rows+='|'+ f'{t[cell]:^{final_len[cell]}}'\n",
    "    rows_cumi.append(rows+'|')\n",
    "rows_cumi\n",
    "\n",
    "title = '|' + f'{title:^{len(row_outline)-2}}' + '|'\n",
    "top_border= '-'*len(row_outline)\n",
    "header=\"\"\n",
    "for headings in range(len(table_data)):\n",
    "        header+='|'+ f'{table_data[headings]:^{final_len[headings]}}'\n",
    "header=header + \"|\"\n",
    "\n",
    "\n",
    "# final_table= \n",
    "\n",
    "\n"
   ]
  },
  {
   "cell_type": "code",
   "execution_count": 18,
   "id": "805d8a33",
   "metadata": {},
   "outputs": [
    {
     "name": "stdout",
     "output_type": "stream",
     "text": [
      "----------------------------------------------------------\n",
      "|                     Student Grades                     |\n",
      "+------------+-------+-------+---------+---------+-------+\n",
      "| Student ID | Test1 | Test2 | Midterm | Quizzes | Final |\n",
      "+------------+-------+-------+---------+---------+-------+\n",
      "|  2014255   |  55   |  78   |   63    |   50    |  80   |\n",
      "|  2014301   |  83   |  45   |   88    |   52    |  47   |\n",
      "|  2014023   |  75   |  70   |   42    |   74    |  63   |\n",
      "|  2014155   |  67   |  87   |   54    |   87    |  86   |\n",
      "+------------+-------+-------+---------+---------+-------+\n"
     ]
    }
   ],
   "source": [
    "top_border\n",
    "title\n",
    "row_outline\n",
    "header\n",
    "row_outline\n",
    "final_row_list=[top_border,title,row_outline,header,row_outline]\n",
    "for row_data in rows_cumi:\n",
    "    final_row_list.append(row_data)\n",
    "\n",
    "final_row_list.append(row_outline)\n",
    "# for line in final_row_list:\n",
    "#     print(line)\n",
    "\n",
    "\n",
    "final_file = '\\n'.join(final_row_list)\n",
    "my_file = open(filename, 'w')\n",
    "my_file.write(final_file)\n",
    "my_file.close()\n",
    "print(final_file)"
   ]
  },
  {
   "cell_type": "code",
   "execution_count": 9,
   "id": "18c2cbd1",
   "metadata": {},
   "outputs": [],
   "source": [
    "with open('filename.txt', 'w') as f:\n",
    "    for line in final_row_list:\n",
    "        f.write(line)\n",
    "        f.write('\\n')"
   ]
  },
  {
   "cell_type": "code",
   "execution_count": null,
   "id": "9fc0ac36",
   "metadata": {},
   "outputs": [],
   "source": []
  },
  {
   "cell_type": "code",
   "execution_count": 13,
   "id": "7f703f45",
   "metadata": {},
   "outputs": [
    {
     "name": "stdout",
     "output_type": "stream",
     "text": [
      "----------------------------------------------------------\n",
      "|                     Student Grades                     |\n",
      "+------------+-------+-------+---------+---------+-------+\n",
      "| Student ID | Test1 | Test2 | Midterm | Quizzes | Final |\n",
      "+------------+-------+-------+---------+---------+-------+\n",
      "|  2014255   |  55   |  78   |   63    |   50    |  80   |\n",
      "|  2014301   |  83   |  45   |   88    |   52    |  47   |\n",
      "|  2014023   |  75   |  70   |   42    |   74    |  63   |\n",
      "|  2014155   |  67   |  87   |   54    |   87    |  86   |\n",
      "+------------+-------+-------+---------+---------+-------+\n"
     ]
    }
   ],
   "source": [
    "title ='Student Grades'\n",
    "filename='test.txt'\n",
    "# table_data=('Symbol', 'Name', 'Last', 'Change', 'Share Volume')\n",
    "header=('Student ID', 'Test1', 'Test2','Midterm', 'Quizzes', 'Final')\n",
    "data = (\n",
    "            (2014255, 55, 78, 63, 50, 80),\n",
    "            (2014301, 83, 45, 88, 52, 47),\n",
    "            (2014023, 75, 70, 42, 74, 63),\n",
    "            (2014155, 67, 87, 54, 87, 86),\n",
    "        )\n",
    "\n",
    "\n",
    "column_lengths = []\n",
    "for heading in header:\n",
    "    column_lengths.append(len(heading))\n",
    "for row in data: \n",
    "    for (ind,item) in enumerate(row):\n",
    "        column_lengths[ind]=max(column_lengths[ind],len(str(item)))\n",
    "\n",
    "# column types\n",
    "column_types = []\n",
    "for item in data[1]: \n",
    "    if isinstance(item, str):\n",
    "        column_types.append('s')\n",
    "    else:\n",
    "        column_types.append('d')\n",
    "\n",
    "\n",
    "# middle dotted line\n",
    "middle_row_format = '+'\n",
    "middle_line_words = ['']*len(column_lengths)\n",
    "for length in column_lengths:\n",
    "    middle_row_format+='{:-^'+str(length+2)+'s}+'\n",
    "dashed_line = middle_row_format.format(*middle_line_words)\n",
    "top_line = '-'*len(dashed_line)\n",
    "\n",
    "\n",
    "# Subject Line\n",
    "subject_line_format = '|{:^'+str(len(top_line)-2)+'s}|'\n",
    "subject_line = subject_line_format.format(title)\n",
    "\n",
    "#Headers Line\n",
    "header_format = '|'\n",
    "for length in column_lengths:\n",
    "    header_format+=' {:^'+str(length)+'s} |'\n",
    "\n",
    "# rows Line\n",
    "header_format = '|'\n",
    "for length in column_lengths:\n",
    "    header_format+=' {:^'+str(length)+'s} |' \n",
    "\n",
    "\n",
    "# rows Line\n",
    "row_format = '|'\n",
    "for (length,type) in zip(column_lengths,column_types):\n",
    "    row_format+=' {:^'+str(length)+type+'} |' \n",
    "\n",
    "header = header_format.format(*header)\n",
    "\n",
    "# top dotted line\n",
    "\n",
    "\n",
    "lines_to_print = [top_line,subject_line,dashed_line, header, dashed_line]\n",
    "for data_row in data:\n",
    "    data_line = row_format.format(*data_row)\n",
    "    lines_to_print.append(data_line)\n",
    "lines_to_print.append(dashed_line)\n",
    "\n",
    "file_content = '\\n'.join(lines_to_print)\n",
    "my_file = open(filename, 'w')\n",
    "my_file.write(file_content)\n",
    "my_file.close()\n",
    "print(file_content)"
   ]
  },
  {
   "cell_type": "code",
   "execution_count": null,
   "id": "f17d42e5",
   "metadata": {},
   "outputs": [],
   "source": []
  }
 ],
 "metadata": {
  "kernelspec": {
   "display_name": "Python 3.9.7 64-bit ('base': conda)",
   "language": "python",
   "name": "python397jvsc74a57bd0c3bfd3241e66b266dff4acbb1f08962ccc1d05281c5a6d6f8757664838673e4b"
  },
  "language_info": {
   "codemirror_mode": {
    "name": "ipython",
    "version": 3
   },
   "file_extension": ".py",
   "mimetype": "text/x-python",
   "name": "python",
   "nbconvert_exporter": "python",
   "pygments_lexer": "ipython3",
   "version": "3.9.7"
  }
 },
 "nbformat": 4,
 "nbformat_minor": 5
}
