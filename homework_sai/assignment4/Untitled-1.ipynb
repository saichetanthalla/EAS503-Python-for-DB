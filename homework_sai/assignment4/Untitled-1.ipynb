{
 "cells": [
  {
   "cell_type": "code",
   "execution_count": 2,
   "metadata": {},
   "outputs": [],
   "source": [
    "p=0"
   ]
  },
  {
   "cell_type": "code",
   "execution_count": 18,
   "metadata": {},
   "outputs": [
    {
     "name": "stdout",
     "output_type": "stream",
     "text": [
      "1\n",
      "2\n",
      "3\n",
      "4\n",
      "1 7 9 1 4\n"
     ]
    },
    {
     "data": {
      "text/plain": [
       "True"
      ]
     },
     "execution_count": 18,
     "metadata": {},
     "output_type": "execute_result"
    }
   ],
   "source": [
    "def ex1(password):\n",
    "    # In this exercise you will complete this function to determine whether or not\n",
    "    # a password is good. We will define a good password to be a one that is at least\n",
    "    # 8 characters long and contains at least one uppercase letter, at least one lowercase\n",
    "    # letter, at least one number, and at least one of the following special characters (!, @, #, $, ^).\n",
    "    # This function should return True if the password\n",
    "    # passed to it as its only parameter is good. Otherwise it should return False.\n",
    "    #\n",
    "    # input: password (str)\n",
    "    # output: True or False (bool)\n",
    "    # BEGIN SOLUTION\n",
    "    up=0\n",
    "    down=0\n",
    "    spec=0\n",
    "    num=0\n",
    "    le=0\n",
    "    sp=[\"!\", '@', \"#\", \"$\", \"^\"]\n",
    "    nu=['0', '1', '2', '3', '4', '5', '6', '7', '8', '9']\n",
    "    if len(password)>=8:\n",
    "        le+=1\n",
    "    for char in password:\n",
    "        if i.upper()==i:\n",
    "            up+=1\n",
    "        if i.lower()==i:\n",
    "            down+=1\n",
    "        if i in sp:\n",
    "            spec+=1\n",
    "        if i in nu:\n",
    "            print(i)\n",
    "            num+=1\n",
    "    # print(le,up,down,spec, num)\n",
    "    if le>0 and up>0 and down>0 and spec>0 and num>0:\n",
    "        return True\n",
    "    else:\n",
    "        return False\n",
    "\n",
    "\n",
    "\n",
    "\n",
    "    return\n",
    "ex1(\"InWard@1234\")"
   ]
  },
  {
   "cell_type": "code",
   "execution_count": 11,
   "metadata": {},
   "outputs": [
    {
     "data": {
      "text/plain": [
       "['0', '1', '2', '3', '4', '5', '6', '7', '8', '9']"
      ]
     },
     "execution_count": 11,
     "metadata": {},
     "output_type": "execute_result"
    }
   ],
   "source": [
    "\n",
    "l=[str(o) for o in range(10)]\n",
    "l\n"
   ]
  },
  {
   "cell_type": "code",
   "execution_count": 7,
   "metadata": {},
   "outputs": [
    {
     "data": {
      "text/plain": [
       "(50, 643, 4298)"
      ]
     },
     "execution_count": 7,
     "metadata": {},
     "output_type": "execute_result"
    }
   ],
   "source": [
    "def ex3(filename):\n",
    "    # Complete this function to count the number of lines, words, and chars in a file.\n",
    "    # Input: filename\n",
    "    # Output: a tuple with line count, word count, and char count -- in this order\n",
    "\n",
    "    # BEGIN SOLUTION\n",
    "    line_count=0\n",
    "    word_count=0\n",
    "    chars_count=0\n",
    "    with open(filename) as file:\n",
    "        for line in file:\n",
    "            line_count+=1\n",
    "            chars_count+=len(line)\n",
    "            line=line.split()\n",
    "            word_count+=len(line)\n",
    "            \n",
    "    return (line_count,word_count,chars_count)\n",
    "\n",
    "\n",
    "        # return line\n",
    "ex3(\"ex3_data.txt\")\n"
   ]
  },
  {
   "cell_type": "code",
   "execution_count": 10,
   "metadata": {},
   "outputs": [
    {
     "data": {
      "text/plain": [
       "12"
      ]
     },
     "execution_count": 10,
     "metadata": {},
     "output_type": "execute_result"
    }
   ],
   "source": [
    "def ex4(apr):\n",
    "    # Complete this function to use a while loop to determine how long it takes for an investment\n",
    "    # to double at a given interest rate. The input to this function, apr, is the annualized interest rate\n",
    "    # and the output is the number of years it takes an investment to double. Note: The amount of the initial\n",
    "    # investment (principal) does not matter; you can use $1.\n",
    "    # Hint: principal is the amount of money being invested.\n",
    "    # apr is the annual percentage rate expressed as a decimal number.\n",
    "    # Relationship: value after one year is given by principal * (1+ apr)\n",
    "\n",
    "    # BEGIN SOLUTION\n",
    "    principal=1\n",
    "    check=principal*2\n",
    "    after_one_year=0\n",
    "    while principal<check:\n",
    "        principal=principal * (1+ apr)\n",
    "        after_one_year+=1\n",
    "    return (after_one_year)\n",
    "\n",
    "ex4(0.06)\n",
    "\n",
    "    # END SOLUTION"
   ]
  },
  {
   "cell_type": "code",
   "execution_count": 12,
   "metadata": {},
   "outputs": [
    {
     "data": {
      "text/plain": [
       "13"
      ]
     },
     "execution_count": 12,
     "metadata": {},
     "output_type": "execute_result"
    }
   ],
   "source": [
    "def ex5(n):\n",
    "    # Complete this function to return the number of steps taken to reach 1 in\n",
    "    # the Collatz sequence (https://en.wikipedia.org/wiki/Collatz_conjecture)\n",
    "\n",
    "    # BEGIN SOLUTION\n",
    "    if n==1:\n",
    "        return 0\n",
    "    steps=0\n",
    "    while n!=1:\n",
    "        if n%2==0:\n",
    "            steps+=1\n",
    "            n=n/2\n",
    "        else:\n",
    "            steps+=1\n",
    "            n=(n*3)+1\n",
    "    return steps\n",
    "        \n",
    "ex5(35)    \n",
    "    # END SOLUTION"
   ]
  },
  {
   "cell_type": "code",
   "execution_count": 45,
   "metadata": {},
   "outputs": [
    {
     "name": "stdout",
     "output_type": "stream",
     "text": [
      "[2, 3, 5, 7, 11]\n"
     ]
    }
   ],
   "source": [
    "def ex7(n):\n",
    "    # Complete this function to return all the primes as a list less than or equal to n\n",
    "    # Input: n\n",
    "    # Output: a list of numbers\n",
    "    # hint use ex6\n",
    "\n",
    "    # BEGIN SOLUTION\n",
    "    out=[]        \n",
    "    for num in range(2,n):\n",
    "        prime = True\n",
    "        for i in range(2,num):\n",
    "            if (num%i==0):\n",
    "                prime = False\n",
    "        if prime:\n",
    "            out.append(num)\n",
    "    # END SOLUTION\n",
    "print(out)\n",
    "ex7(25)"
   ]
  },
  {
   "cell_type": "code",
   "execution_count": 104,
   "metadata": {},
   "outputs": [
    {
     "data": {
      "text/plain": [
       "('student733', 86.2, 'student202', 65.4)"
      ]
     },
     "execution_count": 104,
     "metadata": {},
     "output_type": "execute_result"
    }
   ],
   "source": [
    "def ex9(filename):\n",
    "    # Complete this function to read grades from a file and determine the student with the highest average\n",
    "    # test grades and the lowest average test grades.\n",
    "    # Input: filename\n",
    "    # Output: a tuple containing four elements: name of student with highest average, their average,\n",
    "    # name of the student with the lowest test grade, and their average. Example ('Student1', 99.50, 'Student5', 65.50)\n",
    "    # Hint: Round to two decimal places\n",
    "\n",
    "    # BEGIN SOLUTION\n",
    "    student_1_name=[]\n",
    "    student_1_avg=[]\n",
    "    summation=0\n",
    "    with open(filename) as file:\n",
    "        for line in file:\n",
    "            summation=0\n",
    "            if line.strip():\n",
    "                line=line.split(\",\")\n",
    "                number_course=len(line)-1\n",
    "                for data in line[1:]:\n",
    "                    summation+=int(data)\n",
    "                avg=summation/number_course\n",
    "                student_1_name.append(line[0])\n",
    "                student_1_avg.append(avg)\n",
    "        t=student_1_avg.index(max(student_1_avg))\n",
    "        s=student_1_avg.index(min(student_1_avg))\n",
    "        return((student_1_name[t],student_1_avg[t],student_1_name[s],student_1_avg[s]))\n",
    "        # student_1_avg.index(max(student_1_avg))\n",
    "        # for index,val in enumerate(zip(student_1_name,max(student_1_avg))):\n",
    "        #     return index,val\n",
    "        # print(student_1_avg)\n",
    "                # if avg > student_1_avg:\n",
    "                #     student_1_name=line[0]\n",
    "                #     student_1_avg=avg\n",
    "                # elif avg < student_2_avg:\n",
    "                #     student_2_name=line[0]\n",
    "                #     student_2_avg=avg\n",
    "    # return (student_1_name,student_1_avg,student_2_name,student_2_avg)\n",
    "ex9('ex9_data.txt')"
   ]
  },
  {
   "cell_type": "code",
   "execution_count": null,
   "metadata": {},
   "outputs": [],
   "source": [
    "def odd(n):\n",
    "    for j in range(2,n):\n",
    "        for i in range(2,j):\n",
    "            if j%i==0:\n",
    "                break \n",
    "        print(j)    \n",
    "odd(25)"
   ]
  },
  {
   "cell_type": "code",
   "execution_count": 48,
   "metadata": {},
   "outputs": [
    {
     "data": {
      "text/plain": [
       "4"
      ]
     },
     "execution_count": 48,
     "metadata": {},
     "output_type": "execute_result"
    }
   ],
   "source": [
    "import math\n",
    "int(math.sqrt(16))"
   ]
  },
  {
   "cell_type": "code",
   "execution_count": 113,
   "metadata": {},
   "outputs": [
    {
     "data": {
      "text/plain": [
       "69"
      ]
     },
     "execution_count": 113,
     "metadata": {},
     "output_type": "execute_result"
    }
   ],
   "source": [
    "int('69\\n')"
   ]
  },
  {
   "cell_type": "code",
   "execution_count": 112,
   "metadata": {},
   "outputs": [
    {
     "name": "stdout",
     "output_type": "stream",
     "text": [
      "[5, 6] [1, 2]\n"
     ]
    }
   ],
   "source": [
    "b=[1,2,4,3,5,6]\n",
    "b.sort()\n",
    "max_out=b[:2]\n",
    "min_out=b[-2:]\n",
    "print(min_out,max_out)"
   ]
  },
  {
   "cell_type": "code",
   "execution_count": 115,
   "metadata": {},
   "outputs": [
    {
     "name": "stdout",
     "output_type": "stream",
     "text": [
      "True\n"
     ]
    }
   ],
   "source": [
    "def ex6(n):\n",
    "    # A positive whole number > 2 is prime if no number between 2 and sqrt(n)\n",
    "    # (include) evenly divides n. Write a program that accepts a value of n as\n",
    "    # input and determine if the value is prime. If n is not prime, your program should\n",
    "    # return False (boolean) as soon as it finds a value that evenly divides n.\n",
    "    # Hint: if number is 2, return False\n",
    "\n",
    "    import math\n",
    "\n",
    "    # BEGIN SOLUTION\n",
    "    for i in range(2,int(math.sqrt(n))+1):\n",
    "    # for i in range(2,n):\n",
    "        if n==2:\n",
    "            return True\n",
    "        elif n%i==0 :\n",
    "            return False\n",
    "    \n",
    "        \n",
    "    return True \n",
    "\n",
    "print(ex6(2))"
   ]
  },
  {
   "cell_type": "code",
   "execution_count": 119,
   "metadata": {},
   "outputs": [
    {
     "data": {
      "text/plain": [
       "[2, 3, 5, 7, 11, 13, 17, 19, 23]"
      ]
     },
     "execution_count": 119,
     "metadata": {},
     "output_type": "execute_result"
    }
   ],
   "source": [
    "def ex7(n):\n",
    "    # Complete this function to return all the primes as a list less than or equal to n\n",
    "    # Input: n\n",
    "    # Output: a list of numbers\n",
    "    # hint use ex6\n",
    "\n",
    "    # BEGIN SOLUTION\n",
    "    ans=[]\n",
    "    for i in range(2,n+1):\n",
    "        if ex6(i):\n",
    "            ans.append(i)\n",
    "    return ans\n",
    "\n",
    "ex7(25)"
   ]
  },
  {
   "cell_type": "code",
   "execution_count": 171,
   "metadata": {},
   "outputs": [
    {
     "data": {
      "text/plain": [
       "True"
      ]
     },
     "execution_count": 171,
     "metadata": {},
     "output_type": "execute_result"
    }
   ],
   "source": [
    "def ex6(n):\n",
    "    # A positive whole number > 2 is prime if no number between 2 and sqrt(n)\n",
    "    # (include) evenly divides n. Write a program that accepts a value of n as\n",
    "    # input and determine if the value is prime. If n is not prime, your program should\n",
    "    # return False (boolean) as soon as it finds a value that evenly divides n.\n",
    "    # Hint: if number is 2, return False\n",
    "    res = []\n",
    "    import math\n",
    "    if n==2:\n",
    "        return False\n",
    "    # BEGIN SOLUTION\n",
    "    elif int(math.sqrt(n)) < 2:\n",
    "        if n%2!=0:\n",
    "            return True\n",
    "    \n",
    "    for i in range(2,int(math.sqrt(n))+1):\n",
    "# for i in range(2,n):\n",
    "\n",
    "        if n%i==0 :\n",
    "            res.append(0) \n",
    "        else :\n",
    "            res.append(1)\n",
    "    \n",
    "    if 0 in res :\n",
    "        return False\n",
    "    if 1 in res :\n",
    "        return True\n",
    "\n",
    "ex6(5)"
   ]
  },
  {
   "cell_type": "code",
   "execution_count": 162,
   "metadata": {},
   "outputs": [
    {
     "name": "stdout",
     "output_type": "stream",
     "text": [
      "[1]\n"
     ]
    },
    {
     "data": {
      "text/plain": [
       "1.7320508075688772"
      ]
     },
     "execution_count": 162,
     "metadata": {},
     "output_type": "execute_result"
    }
   ],
   "source": [
    "print(list(range(1,int(math.sqrt(3))+1)))\n",
    "math.sqrt(3)"
   ]
  },
  {
   "cell_type": "code",
   "execution_count": 2,
   "metadata": {},
   "outputs": [
    {
     "data": {
      "text/plain": [
       "('x_mean6.4,y_mean 7.0', -1.1, 14.5)"
      ]
     },
     "execution_count": 2,
     "metadata": {},
     "output_type": "execute_result"
    }
   ],
   "source": [
    "def ex14(points):\n",
    "    # Complete this function to determine the best line.\n",
    "    # https://www.varsitytutors.com/hotmath/hotmath_help/topics/line-of-best-fit\n",
    "    # input: points (list of tuples contain x, y values)\n",
    "    # output: (m, b) # round both values to two decimal places\n",
    "\n",
    "    # BEGIN SOLUTION\n",
    "    x=[]\n",
    "    y=[]\n",
    "    for point in points:\n",
    "        x.append(point[0])\n",
    "        y.append(point[1])\n",
    "    x_mean=sum(x)/len(x)\n",
    "    y_mean=sum(y)/len(y)\n",
    "    slope_list_num=[]\n",
    "    slope_list_den=[]\n",
    "    for i in range(len(x)):\n",
    "        slope_num=(x[i]-x_mean)*(y[i]-y_mean)\n",
    "        slope_list_num.append(slope_num)\n",
    "        slope_den=((x[i]-x_mean)**2)\n",
    "        slope_list_den.append(slope_den)\n",
    "    slope=sum(slope_list_num)/sum(slope_list_den)\n",
    "    y_intercept=y_mean - (slope-x_mean)\n",
    "    return (round(slope,2),round(y_intercept,2))\n",
    "\n",
    "\n",
    "    # END SOLUTION\n",
    "points = (\n",
    "            (8,3),\n",
    "            (2,10),\n",
    "            (11,3),\n",
    "            (6,6),\n",
    "            (5,8),\n",
    "            (4,12),\n",
    "            (12,1),\n",
    "            (9,4),\n",
    "            (6,9),\n",
    "            (1,14),)\n",
    "ex14(points)"
   ]
  },
  {
   "cell_type": "code",
   "execution_count": null,
   "metadata": {},
   "outputs": [],
   "source": [
    "\n"
   ]
  }
 ],
 "metadata": {
  "interpreter": {
   "hash": "c3bfd3241e66b266dff4acbb1f08962ccc1d05281c5a6d6f8757664838673e4b"
  },
  "kernelspec": {
   "display_name": "Python 3 (ipykernel)",
   "language": "python",
   "name": "python3"
  },
  "language_info": {
   "codemirror_mode": {
    "name": "ipython",
    "version": 3
   },
   "file_extension": ".py",
   "mimetype": "text/x-python",
   "name": "python",
   "nbconvert_exporter": "python",
   "pygments_lexer": "ipython3",
   "version": "3.9.7"
  }
 },
 "nbformat": 4,
 "nbformat_minor": 2
}
