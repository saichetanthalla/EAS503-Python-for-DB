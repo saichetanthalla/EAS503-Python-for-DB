{
 "cells": [
  {
   "cell_type": "markdown",
   "metadata": {},
   "source": [
    "Before you turn this problem in, make sure everything runs as expected. First, **restart the kernel** (in the menubar, select Kernel$\\rightarrow$Restart) and then **run all cells** (in the menubar, select Cell$\\rightarrow$Run All).\n",
    "\n",
    "Make sure you fill in any place that says `YOUR CODE HERE` or \"YOUR ANSWER HERE\", as well as your name and collaborators below:"
   ]
  },
  {
   "cell_type": "code",
   "execution_count": 92,
   "metadata": {},
   "outputs": [],
   "source": [
    "NAME = \"Venkata Mahendra Chimmili\"\n",
    "COLLABORATORS = \"MKZIA\""
   ]
  },
  {
   "cell_type": "markdown",
   "metadata": {},
   "source": [
    "---"
   ]
  },
  {
   "cell_type": "code",
   "execution_count": 93,
   "metadata": {
    "deletable": false,
    "nbgrader": {
     "cell_type": "code",
     "checksum": "c32b10e487c11043ff5da12624f9b3fa",
     "grade": false,
     "grade_id": "cell-08c74419fb3f0714",
     "locked": false,
     "schema_version": 3,
     "solution": true,
     "task": false
    }
   },
   "outputs": [],
   "source": [
    "# Exercise 1\n",
    "\n",
    "def list_comp1(lst):\n",
    "    # Complete this function to use list comprehension to return all values from `lst`\n",
    "    # that are a multiple of 3 or 4. Just complete the list comprehension below.\n",
    "    # input: `lst` of numbers\n",
    "    # output: a list of numbers\n",
    "    \n",
    "    # complete the following line!\n",
    "#     return [for ele in lst] #complete this line!\n",
    "    \n",
    "    return[element for element in lst if element%3==0 or element%4==0]\n"
   ]
  },
  {
   "cell_type": "code",
   "execution_count": 94,
   "metadata": {
    "deletable": false,
    "editable": false,
    "nbgrader": {
     "cell_type": "code",
     "checksum": "546bb95c101426ec8a51502f04ee7c1e",
     "grade": true,
     "grade_id": "cell-e746cd92918acbf8",
     "locked": true,
     "points": 4,
     "schema_version": 3,
     "solution": false,
     "task": false
    }
   },
   "outputs": [],
   "source": [
    "\n",
    "assert list_comp1(range(1, 20)) == [3, 4, 6, 8, 9, 12, 15, 16, 18]\n"
   ]
  },
  {
   "cell_type": "code",
   "execution_count": 95,
   "metadata": {
    "deletable": false,
    "editable": false,
    "nbgrader": {
     "cell_type": "code",
     "checksum": "e8cf498c76b99a19da22dd02574bb6bf",
     "grade": true,
     "grade_id": "cell-0870e46368550525",
     "locked": true,
     "points": 4,
     "schema_version": 3,
     "solution": false,
     "task": false
    }
   },
   "outputs": [],
   "source": [
    "assert list_comp1(range(101, 140)) == [\n",
    "    102, 104, 105, 108, 111, 112, 114, 116, 117, 120, 123, 124, 126, 128, 129, 132, 135, 136, 138]"
   ]
  },
  {
   "cell_type": "code",
   "execution_count": 96,
   "metadata": {
    "deletable": false,
    "nbgrader": {
     "cell_type": "code",
     "checksum": "23e1767f9e78f8953caefea40cd5e88d",
     "grade": false,
     "grade_id": "cell-0316a6dcb5476768",
     "locked": false,
     "schema_version": 3,
     "solution": true,
     "task": false
    }
   },
   "outputs": [],
   "source": [
    "# Exercise 2\n",
    "\n",
    "\n",
    "def list_comp2(lst):\n",
    "    # Complete this function to use list comprehension to multiple all numbers\n",
    "    # in the list by 3 if it is even or 5 if its odd\n",
    "    # input: `lst` of numbers\n",
    "    # output: a list of numbers\n",
    "\n",
    "    # complete the following line!\n",
    "#     return [for ele in lst] #complete this line!\n",
    "    return [3*element if element%2==0 else element*5 for element in lst]"
   ]
  },
  {
   "cell_type": "code",
   "execution_count": 97,
   "metadata": {
    "deletable": false,
    "editable": false,
    "nbgrader": {
     "cell_type": "code",
     "checksum": "5055b9b88b1a1328160bfaad0548965d",
     "grade": true,
     "grade_id": "cell-ed0cf2a2412e8b86",
     "locked": true,
     "points": 4,
     "schema_version": 3,
     "solution": false,
     "task": false
    }
   },
   "outputs": [],
   "source": [
    "assert list_comp2(range(20)) == [\n",
    "    0, 5, 6, 15, 12, 25, 18, 35, 24, 45, 30, 55, 36, 65, 42, 75, 48, 85, 54, 95]\n"
   ]
  },
  {
   "cell_type": "code",
   "execution_count": 98,
   "metadata": {
    "deletable": false,
    "editable": false,
    "nbgrader": {
     "cell_type": "code",
     "checksum": "9a6020270d6a77698d47cc1bc6164cd3",
     "grade": true,
     "grade_id": "cell-ba9c140c2ddaf762",
     "locked": true,
     "points": 4,
     "schema_version": 3,
     "solution": false,
     "task": false
    }
   },
   "outputs": [],
   "source": [
    "assert list_comp2(range(200, 220)) == [600, 1005, 606, 1015, 612, 1025, 618,\n",
    "                                       1035, 624, 1045, 630, 1055, 636, 1065, 642, 1075, 648, 1085, 654, 1095]\n",
    "\n"
   ]
  },
  {
   "cell_type": "code",
   "execution_count": 9,
   "metadata": {},
   "outputs": [],
   "source": [
    "lines_input = [\n",
    "    'student45,83,74,99,76,95',\n",
    "    'student46,96,83,79,89,71',\n",
    "    'student47,70,85,94,73,74',\n",
    "    'student48,99,72,92,65,87',\n",
    "    'student49,78,93,99,77,85',\n",
    "    'student50,96,91,76,72,66',\n",
    "    'student51,94,86,77,91,96',\n",
    "]"
   ]
  },
  {
   "cell_type": "code",
   "execution_count": 43,
   "metadata": {
    "deletable": false,
    "nbgrader": {
     "cell_type": "code",
     "checksum": "86a5cb0549b5a6727f7c5df3c3f2c97e",
     "grade": false,
     "grade_id": "cell-91d6b402c85e893d",
     "locked": false,
     "schema_version": 3,
     "solution": true,
     "task": false
    }
   },
   "outputs": [
    {
     "name": "stdout",
     "output_type": "stream",
     "text": [
      "['student1:B', 'student2:B', 'student3:B', 'student4:B', 'student5:B', 'student6:B', 'student7:C', 'student8:C', 'student9:B', 'student10:C', 'student11:C', 'student12:C', 'student13:B', 'student14:B', 'student15:C', 'student16:B', 'student17:B', 'student18:B', 'student19:C', 'student20:B', 'student21:B', 'student22:C', 'student23:B', 'student24:B', 'student25:A', 'student26:B', 'student27:C', 'student28:B', 'student29:B', 'student30:B', 'student31:B', 'student32:C', 'student33:B', 'student34:B', 'student35:B', 'student36:C', 'student37:B', 'student38:B', 'student39:C', 'student40:C', 'student41:B', 'student42:A', 'student43:B', 'student44:C', 'student45:B', 'student46:B', 'student47:C', 'student48:B', 'student49:B', 'student50:B', 'student51:B', 'student52:C', 'student53:B', 'student54:C', 'student55:A', 'student56:A', 'student57:B', 'student58:C', 'student59:B', 'student60:B', 'student61:B', 'student62:B', 'student63:B', 'student64:B', 'student65:C', 'student66:C', 'student67:C', 'student68:B', 'student69:B', 'student70:B', 'student71:B', 'student72:C', 'student73:B', 'student74:B', 'student75:B', 'student76:B', 'student77:B', 'student78:C', 'student79:B', 'student80:B', 'student81:B', 'student82:C', 'student83:B', 'student84:C', 'student85:C', 'student86:B', 'student87:A', 'student88:B', 'student89:C', 'student90:B', 'student91:B', 'student92:C', 'student93:C', 'student94:C', 'student95:B', 'student96:B', 'student97:A', 'student98:B', 'student99:C', 'student100:B']\n"
     ]
    }
   ],
   "source": [
    "# Exercise 3\n",
    "\n",
    "def lambda_1(filename):\n",
    "    # Complete this function to read grades from `filename` and find the minimum\n",
    "    # student test averages. File has student_name, test1_score, test2_score,\n",
    "    # test3_score, test4_score, test5_score. This function must use a lambda\n",
    "    # function and use the min() function to find the student with the minimum\n",
    "    # test average. The input to the min function should be\n",
    "    # a list of lines. Ex. ['student1,33,34,35,36,45', 'student2,33,34,35,36,75']\n",
    "    # input filename\n",
    "    # output: (lambda_func, line_with_min_student) -- example (lambda_func, 'student1,33,34,35,36,45')\n",
    "    def letter_grade(score): \n",
    "    # BEGIN SOLUTION\n",
    "        if score >=90:\n",
    "            return 'A'\n",
    "        elif score >=80:\n",
    "            return 'B'\n",
    "        elif score >=70:\n",
    "            return 'C'\n",
    "        else:\n",
    "            return 'D'\n",
    "    lines =[]\n",
    "    with open(filename, 'r') as file:\n",
    "        for line in file:\n",
    "            line=line.strip()\n",
    "            if line=='':\n",
    "                continue\n",
    "            lines.append(line)\n",
    "        l_func = lambda x: sum(list(map(int, x.split(\",\")[1:]))) / 5\n",
    "        list_res=[letter_grade(l_func(c)) for c in lines]\n",
    "        student_fun=lambda row: row.split(',')[0]\n",
    "        student_lst=[student_fun(p) for p in lines]\n",
    "        # print(list_res)\n",
    "        # print(student_lst)\n",
    "        # final_res=lambda res:f'{}:{}'\n",
    "        final_res1=[f'{student_lst[n]}: {list_res[n]}' for n in range(len(list_res))]\n",
    "        print(final_res1)\n",
    "\n",
    "        new_list = min(lines, key=l_func)\n",
    "        return (l_func, new_list)\n",
    "l_func, min_student = lambda_1('ex3_data.txt')\n",
    "assert min_student == 'student11,72,69,69,65,91'\n",
    "\n",
    "lines = (\n",
    "    'student45,83,74,99,76,95',\n",
    "    'student46,96,83,79,89,71',\n",
    "    'student47,70,85,94,73,74',\n",
    "    'student48,99,72,92,65,87',\n",
    "    'student49,78,93,99,77,85',\n",
    "    'student50,96,91,76,72,66',\n",
    "    'student51,94,86,77,91,96',\n",
    ")\n",
    "\n",
    "assert min(lines, key=l_func) == 'student47,70,85,94,73,74'\n",
    "import types\n",
    "assert type(l_func) is types.LambdaType\n",
    "    "
   ]
  },
  {
   "cell_type": "code",
   "execution_count": 34,
   "metadata": {},
   "outputs": [
    {
     "name": "stdout",
     "output_type": "stream",
     "text": [
      "student45,83,74,99,76,95\n",
      "student46,96,83,79,89,71\n",
      "student47,70,85,94,73,74\n",
      "student48,99,72,92,65,87\n",
      "student49,78,93,99,77,85\n",
      "student50,96,91,76,72,66\n",
      "student51,94,86,77,91,96\n"
     ]
    }
   ],
   "source": [
    "for k in li:\n",
    "    print(k.strip())\n"
   ]
  },
  {
   "cell_type": "code",
   "execution_count": 38,
   "metadata": {},
   "outputs": [
    {
     "data": {
      "text/plain": [
       "'student45'"
      ]
     },
     "execution_count": 38,
     "metadata": {},
     "output_type": "execute_result"
    }
   ],
   "source": [
    "r='student45,83,74,99,76,95'\n",
    "r.split(',')[0]"
   ]
  },
  {
   "cell_type": "code",
   "execution_count": 45,
   "metadata": {},
   "outputs": [
    {
     "data": {
      "text/plain": [
       "False"
      ]
     },
     "execution_count": 45,
     "metadata": {},
     "output_type": "execute_result"
    }
   ],
   "source": [
    "aaa=['student1:B', 'student2:B', 'student3:B', 'student4:B', 'student5:B', 'student6:B', 'student7:C', 'student8:C', 'student9:B', 'student10:C', 'student11:C', 'student12:C', 'student13:B', 'student14:B', 'student15:C', 'student16:B', 'student17:B', 'student18:B', 'student19:C', 'student20:B', 'student21:B', 'student22:C', 'student23:B', 'student24:B', 'student25:A', 'student26:B', 'student27:C', 'student28:B', 'student29:B', 'student30:B', 'student31:B', 'student32:C', 'student33:B', 'student34:B', 'student35:B', 'student36:C', 'student37:B', 'student38:B', 'student39:C', 'student40:C', 'student41:B', 'student42:A', 'student43:B', 'student44:C', 'student45:B', 'student46:B', 'student47:C', 'student48:B', 'student49:B', 'student50:B', 'student51:B', 'student52:C', 'student53:B', 'student54:C', 'student55:A', 'student56:A', 'student57:B', 'student58:C', 'student59:B', 'student60:B', 'student61:B', 'student62:B', 'student63:B', 'student64:B', 'student65:C', 'student66:C', 'student67:C', 'student68:B', 'student69:B', 'student70:B', 'student71:B', 'student72:C', 'student73:B', 'student74:B', 'student75:B', 'student76:B', 'student77:B', 'student78:C', 'student79:B', 'student80:B', 'student81:B', 'student82:C', 'student83:B', 'student84:C', 'student85:C', 'student86:B', 'student87:A', 'student88:B', 'student89:C', 'student90:B', 'student91:B', 'student92:C', 'student93:C', 'student94:C', 'student95:B', 'student96:B', 'student97:A', 'student98:B', 'student99:C', 'student100:B']\n",
    "bbb=['student1: B','student2: B','student3: B','student4: B','student5: B','student6: B',\n",
    "                          'student7: C',\n",
    "                          'student8: C',\n",
    "                          'student9: B',\n",
    "                          'student10: C',\n",
    "                          'student11: C',\n",
    "                          'student12: C',\n",
    "                          'student13: B',\n",
    "                          'student14: B',\n",
    "                          'student15: C',\n",
    "                          'student16: B',\n",
    "                          'student17: B',\n",
    "                          'student18: B',\n",
    "                          'student19: C',\n",
    "                          'student20: B',\n",
    "                          'student21: B',\n",
    "                          'student22: C',\n",
    "                          'student23: B',\n",
    "                          'student24: B',\n",
    "                          'student25: A',\n",
    "                          'student26: B',\n",
    "                          'student27: C',\n",
    "                          'student28: B',\n",
    "                          'student29: B',\n",
    "                          'student30: B',\n",
    "                          'student31: B',\n",
    "                          'student32: C',\n",
    "                          'student33: B',\n",
    "                          'student34: B',\n",
    "                          'student35: B',\n",
    "                          'student36: C',\n",
    "                          'student37: B',\n",
    "                          'student38: B',\n",
    "                          'student39: C',\n",
    "                          'student40: C',\n",
    "                          'student41: B',\n",
    "                          'student42: A',\n",
    "                          'student43: B',\n",
    "                          'student44: C',\n",
    "                          'student45: B',\n",
    "                          'student46: B',\n",
    "                          'student47: C',\n",
    "                          'student48: B',\n",
    "                          'student49: B',\n",
    "                          'student50: B',\n",
    "                          'student51: B',\n",
    "                          'student52: C',\n",
    "                          'student53: B',\n",
    "                          'student54: C',\n",
    "                          'student55: A',\n",
    "                          'student56: A',\n",
    "                          'student57: B',\n",
    "                          'student58: C',\n",
    "                          'student59: B',\n",
    "                          'student60: B',\n",
    "                          'student61: B',\n",
    "                          'student62: B',\n",
    "                          'student63: B',\n",
    "                          'student64: B',\n",
    "                          'student65: C',\n",
    "                          'student66: C',\n",
    "                          'student67: C',\n",
    "                          'student68: B',\n",
    "                          'student69: B',\n",
    "                          'student70: B',\n",
    "                          'student71: B',\n",
    "                          'student72: C',\n",
    "                          'student73: B',\n",
    "                          'student74: B',\n",
    "                          'student75: B',\n",
    "                          'student76: B',\n",
    "                          'student77: B',\n",
    "                          'student78: C',\n",
    "                          'student79: B',\n",
    "                          'student80: B',\n",
    "                          'student81: B',\n",
    "                          'student82: C',\n",
    "                          'student83: B',\n",
    "                          'student84: C',\n",
    "                          'student85: C',\n",
    "                          'student86: B',\n",
    "                          'student87: A',\n",
    "                          'student88: B',\n",
    "                          'student89: C',\n",
    "                          'student90: B',\n",
    "                          'student91: B',\n",
    "                          'student92: C',\n",
    "                          'student93: C',\n",
    "                          'student94: C',\n",
    "                          'student95: A',\n",
    "                          'student96: B',\n",
    "                          'student97: A',\n",
    "                          'student98: B',\n",
    "                          'student99: C',\n",
    "                          'student100: B']\n",
    "\n",
    "aaa==bbb"
   ]
  },
  {
   "cell_type": "code",
   "execution_count": null,
   "metadata": {},
   "outputs": [],
   "source": []
  },
  {
   "cell_type": "code",
   "execution_count": null,
   "metadata": {},
   "outputs": [],
   "source": []
  },
  {
   "cell_type": "code",
   "execution_count": 3,
   "metadata": {
    "deletable": false,
    "editable": false,
    "nbgrader": {
     "cell_type": "code",
     "checksum": "68cb8c6879d35f1f53ee9200eed4257d",
     "grade": true,
     "grade_id": "cell-e684bb8e7de533f1",
     "locked": true,
     "points": 8,
     "schema_version": 3,
     "solution": false,
     "task": false
    }
   },
   "outputs": [],
   "source": []
  },
  {
   "cell_type": "code",
   "execution_count": 101,
   "metadata": {
    "deletable": false,
    "nbgrader": {
     "cell_type": "code",
     "checksum": "7e167eabee69a8165f4f67def326975b",
     "grade": false,
     "grade_id": "cell-7688e2600060e34b",
     "locked": false,
     "schema_version": 3,
     "solution": true,
     "task": false
    }
   },
   "outputs": [],
   "source": [
    "# Ex 4\n",
    "\n",
    "def lambda_2(filename):\n",
    "    # Complete this function to read grades from `filename` and map the test average to letter\n",
    "    # grades using map and lambda. File has student_name, test1_score, test2_score,\n",
    "    # test3_score, test4_score, test5_score. This function must use a lambda\n",
    "    # function and map() function.\n",
    "    # The input to the map function should be\n",
    "    # a list of lines. Ex. ['student1,73,74,75,76,75', ...]. Output is a list of strings in the format\n",
    "    # studentname: Letter Grade -- 'student1: C'\n",
    "    # input filename\n",
    "    # output: (lambda_func, list_of_studentname_and_lettergrade) -- example (lambda_func, ['student1: C', ...])\n",
    "\n",
    "    # Use this average to grade mapping. Round the average mapping.\n",
    "    # D = 65<=average<70\n",
    "    # C = 70<=average<80\n",
    "    # B = 80<=average<90\n",
    "    # A = 90<=average\n",
    "    \n",
    "    lines=[]\n",
    "    \n",
    "    with open(filename) as f:\n",
    "        for line in f:\n",
    "            if not line.strip():\n",
    "                continue\n",
    "            lines.append(line.strip())\n",
    "   \n",
    "    \n",
    "    grade_mapping = {}# fill this!\n",
    "   \n",
    "    for i in range(65,101):\n",
    "        if 65<=i<70:\n",
    "            grade_mapping[i]='D'\n",
    "        elif 70<=i<80:\n",
    "            grade_mapping[i]='C'\n",
    "        elif 80<=i<90:\n",
    "            grade_mapping[i]='B'\n",
    "        elif 90<=i<101:\n",
    "            grade_mapping[i]='A'\n",
    "    l_func = lambda line:line.split(\",\")[0]+\": \"+grade_mapping[int(round(sum([int (element) for element in line.split(\",\")[1:]])/len(line.split(\",\")[1:])))]\n",
    "    result = list(map(l_func,lines))\n",
    "    return (l_func,result)\n"
   ]
  },
  {
   "cell_type": "code",
   "execution_count": 102,
   "metadata": {
    "deletable": false,
    "editable": false,
    "nbgrader": {
     "cell_type": "code",
     "checksum": "cad4e8f4c39cc8a7f192cbf7cef66d6f",
     "grade": true,
     "grade_id": "cell-dbc80a45ca9fe86b",
     "locked": true,
     "points": 8,
     "schema_version": 3,
     "solution": false,
     "task": false
    }
   },
   "outputs": [],
   "source": [
    "l_func, student_grades = lambda_2('ex3_data.txt')\n",
    "\n",
    "\n",
    "result = ['student1: B',\n",
    " 'student2: B',\n",
    " 'student3: B',\n",
    " 'student4: B',\n",
    " 'student5: B',\n",
    " 'student6: B',\n",
    " 'student7: C',\n",
    " 'student8: C',\n",
    " 'student9: B',\n",
    " 'student10: C',\n",
    " 'student11: C',\n",
    " 'student12: C',\n",
    " 'student13: B',\n",
    " 'student14: B',\n",
    " 'student15: C',\n",
    " 'student16: B',\n",
    " 'student17: B',\n",
    " 'student18: B',\n",
    " 'student19: C',\n",
    " 'student20: B',\n",
    " 'student21: B',\n",
    " 'student22: C',\n",
    " 'student23: B',\n",
    " 'student24: B',\n",
    " 'student25: A',\n",
    " 'student26: B',\n",
    " 'student27: C',\n",
    " 'student28: B',\n",
    " 'student29: B',\n",
    " 'student30: B',\n",
    " 'student31: B',\n",
    " 'student32: C',\n",
    " 'student33: B',\n",
    " 'student34: B',\n",
    " 'student35: B',\n",
    " 'student36: C',\n",
    " 'student37: B',\n",
    " 'student38: B',\n",
    " 'student39: C',\n",
    " 'student40: C',\n",
    " 'student41: B',\n",
    " 'student42: A',\n",
    " 'student43: B',\n",
    " 'student44: C',\n",
    " 'student45: B',\n",
    " 'student46: B',\n",
    " 'student47: C',\n",
    " 'student48: B',\n",
    " 'student49: B',\n",
    " 'student50: B',\n",
    " 'student51: B',\n",
    " 'student52: C',\n",
    " 'student53: B',\n",
    " 'student54: C',\n",
    " 'student55: A',\n",
    " 'student56: A',\n",
    " 'student57: B',\n",
    " 'student58: C',\n",
    " 'student59: B',\n",
    " 'student60: B',\n",
    " 'student61: B',\n",
    " 'student62: B',\n",
    " 'student63: B',\n",
    " 'student64: B',\n",
    " 'student65: C',\n",
    " 'student66: C',\n",
    " 'student67: C',\n",
    " 'student68: B',\n",
    " 'student69: B',\n",
    " 'student70: B',\n",
    " 'student71: B',\n",
    " 'student72: C',\n",
    " 'student73: B',\n",
    " 'student74: B',\n",
    " 'student75: B',\n",
    " 'student76: B',\n",
    " 'student77: B',\n",
    " 'student78: C',\n",
    " 'student79: B',\n",
    " 'student80: B',\n",
    " 'student81: B',\n",
    " 'student82: C',\n",
    " 'student83: B',\n",
    " 'student84: C',\n",
    " 'student85: C',\n",
    " 'student86: B',\n",
    " 'student87: A',\n",
    " 'student88: B',\n",
    " 'student89: C',\n",
    " 'student90: B',\n",
    " 'student91: B',\n",
    " 'student92: C',\n",
    " 'student93: C',\n",
    " 'student94: C',\n",
    " 'student95: A',\n",
    " 'student96: B',\n",
    " 'student97: A',\n",
    " 'student98: B',\n",
    " 'student99: C',\n",
    " 'student100: B']\n",
    "\n",
    "assert list(student_grades) == result\n",
    "\n",
    "import types\n",
    "assert type(l_func) is types.LambdaType\n",
    "\n",
    "lines = (\n",
    "    'student45,83,74,99,76,95',\n",
    "    'student46,96,83,79,89,71',\n",
    "    'student47,70,85,94,73,74',\n",
    "    'student48,99,72,92,65,87',\n",
    "    'student49,78,93,99,77,85',\n",
    "    'student50,96,91,76,72,66',\n",
    "    'student51,94,86,77,91,96',\n",
    ")\n",
    "\n",
    "assert list(map(l_func, lines)) == ['student45: B', 'student46: B', 'student47: C', 'student48: B', 'student49: B', 'student50: B', 'student51: B']\n",
    "\n",
    "\n"
   ]
  },
  {
   "cell_type": "code",
   "execution_count": 103,
   "metadata": {
    "deletable": false,
    "nbgrader": {
     "cell_type": "code",
     "checksum": "2faa88a69f7d2cd0094c38a07cba9f9f",
     "grade": false,
     "grade_id": "cell-831427ca3f2605f7",
     "locked": false,
     "schema_version": 3,
     "solution": true,
     "task": false
    }
   },
   "outputs": [],
   "source": [
    "# Ex 5\n",
    "\n",
    "def ex5(filename):\n",
    "    # Complete this function to sort a list of dictionary by 'test3'\n",
    "    # return the lambda function and the sorted list of dictionaries\n",
    "\n",
    "    import json\n",
    "    with open(filename) as infile:\n",
    "        grades = json.load(infile)\n",
    "    key=lambda x:int(x[\"test3\"])\n",
    "    return key,sorted(grades,key=key)"
   ]
  },
  {
   "cell_type": "code",
   "execution_count": 104,
   "metadata": {
    "deletable": false,
    "editable": false,
    "nbgrader": {
     "cell_type": "code",
     "checksum": "d2d557ba052ec35916863c721f195904",
     "grade": true,
     "grade_id": "cell-446bd1939a594ade",
     "locked": true,
     "points": 8,
     "schema_version": 3,
     "solution": false,
     "task": false
    }
   },
   "outputs": [],
   "source": [
    "\n",
    "results = [{'name': 'student2', 'test1': '100', 'test2': '90', 'test3': '65', 'test4': '68', 'test5': '94'},\n",
    " {'name': 'student83', 'test1': '88', 'test2': '76', 'test3': '65', 'test4': '97', 'test5': '82'},\n",
    " {'name': 'student31', 'test1': '90', 'test2': '87', 'test3': '66', 'test4': '95', 'test5': '72'},\n",
    " {'name': 'student43', 'test1': '86', 'test2': '69', 'test3': '66', 'test4': '70', 'test5': '74'},\n",
    " {'name': 'student47', 'test1': '93', 'test2': '78', 'test3': '67', 'test4': '74', 'test5': '74'},\n",
    " {'name': 'student52', 'test1': '83', 'test2': '78', 'test3': '67', 'test4': '71', 'test5': '65'},\n",
    " {'name': 'student37', 'test1': '91', 'test2': '78', 'test3': '68', 'test4': '67', 'test5': '92'},\n",
    " {'name': 'student58', 'test1': '89', 'test2': '88', 'test3': '68', 'test4': '79', 'test5': '79'},\n",
    " {'name': 'student63', 'test1': '85', 'test2': '66', 'test3': '69', 'test4': '74', 'test5': '69'},\n",
    " {'name': 'student12', 'test1': '88', 'test2': '83', 'test3': '71', 'test4': '89', 'test5': '73'},\n",
    " {'name': 'student85', 'test1': '76', 'test2': '100', 'test3': '71', 'test4': '69', 'test5': '65'},\n",
    " {'name': 'student98', 'test1': '81', 'test2': '85', 'test3': '71', 'test4': '89', 'test5': '76'},\n",
    " {'name': 'student17', 'test1': '86', 'test2': '98', 'test3': '73', 'test4': '100', 'test5': '92'},\n",
    " {'name': 'student62', 'test1': '86', 'test2': '100', 'test3': '73', 'test4': '99', 'test5': '76'},\n",
    " {'name': 'student69', 'test1': '93', 'test2': '95', 'test3': '73', 'test4': '86', 'test5': '90'},\n",
    " {'name': 'student81', 'test1': '95', 'test2': '83', 'test3': '74', 'test4': '75', 'test5': '81'},\n",
    " {'name': 'student93', 'test1': '95', 'test2': '97', 'test3': '74', 'test4': '74', 'test5': '81'},\n",
    " {'name': 'student26', 'test1': '80', 'test2': '78', 'test3': '75', 'test4': '69', 'test5': '87'},\n",
    " {'name': 'student34', 'test1': '93', 'test2': '88', 'test3': '77', 'test4': '67', 'test5': '93'},\n",
    " {'name': 'student14', 'test1': '85', 'test2': '97', 'test3': '78', 'test4': '67', 'test5': '99'},\n",
    " {'name': 'student79', 'test1': '91', 'test2': '94', 'test3': '78', 'test4': '83', 'test5': '92'},\n",
    " {'name': 'student25', 'test1': '77', 'test2': '86', 'test3': '79', 'test4': '70', 'test5': '92'},\n",
    " {'name': 'student55', 'test1': '91', 'test2': '76', 'test3': '79', 'test4': '65', 'test5': '66'},\n",
    " {'name': 'student70', 'test1': '100', 'test2': '71', 'test3': '79', 'test4': '99', 'test5': '78'},\n",
    " {'name': 'student80', 'test1': '98', 'test2': '85', 'test3': '79', 'test4': '91', 'test5': '92'},\n",
    " {'name': 'student13', 'test1': '95', 'test2': '72', 'test3': '80', 'test4': '73', 'test5': '84'},\n",
    " {'name': 'student35', 'test1': '75', 'test2': '89', 'test3': '80', 'test4': '93', 'test5': '74'},\n",
    " {'name': 'student20', 'test1': '68', 'test2': '68', 'test3': '81', 'test4': '74', 'test5': '76'},\n",
    " {'name': 'student50', 'test1': '94', 'test2': '68', 'test3': '81', 'test4': '69', 'test5': '89'},\n",
    " {'name': 'student66', 'test1': '91', 'test2': '92', 'test3': '81', 'test4': '79', 'test5': '69'},\n",
    " {'name': 'student1', 'test1': '73', 'test2': '91', 'test3': '82', 'test4': '90', 'test5': '93'},\n",
    " {'name': 'student100', 'test1': '79', 'test2': '79', 'test3': '82', 'test4': '71', 'test5': '87'},\n",
    " {'name': 'student5', 'test1': '86', 'test2': '93', 'test3': '83', 'test4': '94', 'test5': '94'},\n",
    " {'name': 'student16', 'test1': '81', 'test2': '95', 'test3': '83', 'test4': '87', 'test5': '95'},\n",
    " {'name': 'student19', 'test1': '70', 'test2': '70', 'test3': '83', 'test4': '99', 'test5': '97'},\n",
    " {'name': 'student61', 'test1': '65', 'test2': '76', 'test3': '83', 'test4': '75', 'test5': '68'},\n",
    " {'name': 'student91', 'test1': '79', 'test2': '100', 'test3': '83', 'test4': '66', 'test5': '69'},\n",
    " {'name': 'student96', 'test1': '99', 'test2': '93', 'test3': '83', 'test4': '75', 'test5': '85'},\n",
    " {'name': 'student21', 'test1': '74', 'test2': '73', 'test3': '84', 'test4': '84', 'test5': '69'},\n",
    " {'name': 'student46', 'test1': '92', 'test2': '83', 'test3': '84', 'test4': '69', 'test5': '90'},\n",
    " {'name': 'student22', 'test1': '65', 'test2': '87', 'test3': '85', 'test4': '78', 'test5': '98'},\n",
    " {'name': 'student23', 'test1': '88', 'test2': '95', 'test3': '85', 'test4': '67', 'test5': '93'},\n",
    " {'name': 'student72', 'test1': '85', 'test2': '66', 'test3': '85', 'test4': '78', 'test5': '75'},\n",
    " {'name': 'student82', 'test1': '77', 'test2': '100', 'test3': '85', 'test4': '65', 'test5': '80'},\n",
    " {'name': 'student88', 'test1': '77', 'test2': '87', 'test3': '85', 'test4': '90', 'test5': '78'},\n",
    " {'name': 'student18', 'test1': '65', 'test2': '78', 'test3': '86', 'test4': '69', 'test5': '98'},\n",
    " {'name': 'student24', 'test1': '80', 'test2': '91', 'test3': '86', 'test4': '99', 'test5': '96'},\n",
    " {'name': 'student28', 'test1': '90', 'test2': '100', 'test3': '86', 'test4': '89', 'test5': '75'},\n",
    " {'name': 'student53', 'test1': '83', 'test2': '100', 'test3': '86', 'test4': '83', 'test5': '90'},\n",
    " {'name': 'student74', 'test1': '97', 'test2': '99', 'test3': '86', 'test4': '93', 'test5': '99'},\n",
    " {'name': 'student75', 'test1': '79', 'test2': '79', 'test3': '86', 'test4': '78', 'test5': '68'},\n",
    " {'name': 'student78', 'test1': '88', 'test2': '98', 'test3': '86', 'test4': '100', 'test5': '71'},\n",
    " {'name': 'student90', 'test1': '95', 'test2': '66', 'test3': '86', 'test4': '85', 'test5': '65'},\n",
    " {'name': 'student10', 'test1': '98', 'test2': '68', 'test3': '87', 'test4': '85', 'test5': '96'},\n",
    " {'name': 'student27', 'test1': '94', 'test2': '99', 'test3': '87', 'test4': '91', 'test5': '86'},\n",
    " {'name': 'student42', 'test1': '72', 'test2': '86', 'test3': '87', 'test4': '98', 'test5': '73'},\n",
    " {'name': 'student49', 'test1': '81', 'test2': '98', 'test3': '87', 'test4': '81', 'test5': '79'},\n",
    " {'name': 'student84', 'test1': '70', 'test2': '66', 'test3': '87', 'test4': '100', 'test5': '97'},\n",
    " {'name': 'student33', 'test1': '95', 'test2': '67', 'test3': '88', 'test4': '81', 'test5': '97'},\n",
    " {'name': 'student38', 'test1': '68', 'test2': '98', 'test3': '88', 'test4': '84', 'test5': '72'},\n",
    " {'name': 'student45', 'test1': '91', 'test2': '81', 'test3': '88', 'test4': '95', 'test5': '69'},\n",
    " {'name': 'student64', 'test1': '89', 'test2': '78', 'test3': '88', 'test4': '86', 'test5': '95'},\n",
    " {'name': 'student86', 'test1': '81', 'test2': '71', 'test3': '88', 'test4': '98', 'test5': '81'},\n",
    " {'name': 'student76', 'test1': '80', 'test2': '72', 'test3': '89', 'test4': '88', 'test5': '89'},\n",
    " {'name': 'student77', 'test1': '84', 'test2': '99', 'test3': '89', 'test4': '69', 'test5': '66'},\n",
    " {'name': 'student92', 'test1': '88', 'test2': '91', 'test3': '89', 'test4': '97', 'test5': '99'},\n",
    " {'name': 'student3', 'test1': '94', 'test2': '67', 'test3': '90', 'test4': '95', 'test5': '84'},\n",
    " {'name': 'student40', 'test1': '94', 'test2': '97', 'test3': '90', 'test4': '95', 'test5': '84'},\n",
    " {'name': 'student11', 'test1': '92', 'test2': '81', 'test3': '91', 'test4': '96', 'test5': '78'},\n",
    " {'name': 'student57', 'test1': '87', 'test2': '84', 'test3': '91', 'test4': '83', 'test5': '80'},\n",
    " {'name': 'student87', 'test1': '88', 'test2': '100', 'test3': '91', 'test4': '75', 'test5': '66'},\n",
    " {'name': 'student44', 'test1': '67', 'test2': '100', 'test3': '92', 'test4': '87', 'test5': '80'},\n",
    " {'name': 'student68', 'test1': '78', 'test2': '99', 'test3': '92', 'test4': '74', 'test5': '89'},\n",
    " {'name': 'student89', 'test1': '82', 'test2': '78', 'test3': '92', 'test4': '90', 'test5': '99'},\n",
    " {'name': 'student97', 'test1': '87', 'test2': '82', 'test3': '92', 'test4': '88', 'test5': '92'},\n",
    " {'name': 'student8', 'test1': '88', 'test2': '71', 'test3': '93', 'test4': '71', 'test5': '86'},\n",
    " {'name': 'student59', 'test1': '78', 'test2': '76', 'test3': '94', 'test4': '65', 'test5': '80'},\n",
    " {'name': 'student60', 'test1': '67', 'test2': '76', 'test3': '94', 'test4': '67', 'test5': '74'},\n",
    " {'name': 'student15', 'test1': '84', 'test2': '71', 'test3': '95', 'test4': '77', 'test5': '77'},\n",
    " {'name': 'student29', 'test1': '89', 'test2': '93', 'test3': '95', 'test4': '78', 'test5': '82'},\n",
    " {'name': 'student67', 'test1': '74', 'test2': '80', 'test3': '95', 'test4': '85', 'test5': '94'},\n",
    " {'name': 'student94', 'test1': '80', 'test2': '71', 'test3': '95', 'test4': '76', 'test5': '68'},\n",
    " {'name': 'student32', 'test1': '91', 'test2': '76', 'test3': '96', 'test4': '73', 'test5': '91'},\n",
    " {'name': 'student51', 'test1': '94', 'test2': '93', 'test3': '96', 'test4': '96', 'test5': '76'},\n",
    " {'name': 'student73', 'test1': '92', 'test2': '89', 'test3': '96', 'test4': '83', 'test5': '79'},\n",
    " {'name': 'student99', 'test1': '69', 'test2': '74', 'test3': '96', 'test4': '97', 'test5': '71'},\n",
    " {'name': 'student39', 'test1': '75', 'test2': '90', 'test3': '97', 'test4': '86', 'test5': '72'},\n",
    " {'name': 'student56', 'test1': '98', 'test2': '80', 'test3': '97', 'test4': '68', 'test5': '91'},\n",
    " {'name': 'student4', 'test1': '68', 'test2': '85', 'test3': '98', 'test4': '69', 'test5': '77'},\n",
    " {'name': 'student30', 'test1': '66', 'test2': '92', 'test3': '98', 'test4': '92', 'test5': '100'},\n",
    " {'name': 'student41', 'test1': '71', 'test2': '77', 'test3': '98', 'test4': '95', 'test5': '70'},\n",
    " {'name': 'student54', 'test1': '92', 'test2': '72', 'test3': '98', 'test4': '70', 'test5': '98'},\n",
    " {'name': 'student71', 'test1': '95', 'test2': '98', 'test3': '98', 'test4': '98', 'test5': '75'},\n",
    " {'name': 'student95', 'test1': '78', 'test2': '71', 'test3': '98', 'test4': '78', 'test5': '96'},\n",
    " {'name': 'student6', 'test1': '72', 'test2': '97', 'test3': '99', 'test4': '69', 'test5': '83'},\n",
    " {'name': 'student9', 'test1': '79', 'test2': '69', 'test3': '99', 'test4': '73', 'test5': '76'},\n",
    " {'name': 'student7', 'test1': '66', 'test2': '99', 'test3': '100', 'test4': '96', 'test5': '81'},\n",
    " {'name': 'student36', 'test1': '76', 'test2': '69', 'test3': '100', 'test4': '97', 'test5': '83'},\n",
    " {'name': 'student48', 'test1': '98', 'test2': '69', 'test3': '100', 'test4': '84', 'test5': '80'}, \n",
    " {'name': 'student65', 'test1': '80', 'test2': '75', 'test3': '100', 'test4': '83', 'test5': '77'}]\n",
    "\n",
    "l_func, output = ex5('grades_dict.json')\n",
    "\n",
    "assert output == results\n",
    "\n",
    "\n",
    "\n",
    "import types\n",
    "assert type(l_func) is types.LambdaType\n",
    "\n",
    "lines = [    {\n",
    "        \"name\": \"student19\",\n",
    "        \"test1\": \"70\",\n",
    "        \"test2\": \"70\",\n",
    "        \"test3\": \"83\",\n",
    "        \"test4\": \"99\",\n",
    "        \"test5\": \"97\"\n",
    "    },\n",
    "    {\n",
    "        \"name\": \"student20\",\n",
    "        \"test1\": \"68\",\n",
    "        \"test2\": \"68\",\n",
    "        \"test3\": \"81\",\n",
    "        \"test4\": \"74\",\n",
    "        \"test5\": \"76\"\n",
    "    },\n",
    "    {\n",
    "        \"name\": \"student21\",\n",
    "        \"test1\": \"74\",\n",
    "        \"test2\": \"73\",\n",
    "        \"test3\": \"84\",\n",
    "        \"test4\": \"84\",\n",
    "        \"test5\": \"69\"\n",
    "    },\n",
    "    {\n",
    "        \"name\": \"student22\",\n",
    "        \"test1\": \"65\",\n",
    "        \"test2\": \"87\",\n",
    "        \"test3\": \"85\",\n",
    "        \"test4\": \"78\",\n",
    "        \"test5\": \"98\"\n",
    "    },\n",
    "    {\n",
    "        \"name\": \"student23\",\n",
    "        \"test1\": \"88\",\n",
    "        \"test2\": \"95\",\n",
    "        \"test3\": \"85\",\n",
    "        \"test4\": \"67\",\n",
    "        \"test5\": \"93\"\n",
    "    },\n",
    "    {\n",
    "        \"name\": \"student24\",\n",
    "        \"test1\": \"80\",\n",
    "        \"test2\": \"91\",\n",
    "        \"test3\": \"86\",\n",
    "        \"test4\": \"99\",\n",
    "        \"test5\": \"96\"\n",
    "    },\n",
    "    {\n",
    "        \"name\": \"student25\",\n",
    "        \"test1\": \"77\",\n",
    "        \"test2\": \"86\",\n",
    "        \"test3\": \"79\",\n",
    "        \"test4\": \"70\",\n",
    "        \"test5\": \"92\"\n",
    "    },\n",
    "    {\n",
    "        \"name\": \"student26\",\n",
    "        \"test1\": \"80\",\n",
    "        \"test2\": \"78\",\n",
    "        \"test3\": \"75\",\n",
    "        \"test4\": \"69\",\n",
    "        \"test5\": \"87\"\n",
    "    },]\n",
    "\n",
    "\n",
    "result2 = [{'name': 'student26', 'test1': '80', 'test2': '78', 'test3': '75', 'test4': '69', 'test5': '87'},\n",
    " {'name': 'student25', 'test1': '77', 'test2': '86', 'test3': '79', 'test4': '70', 'test5': '92'},\n",
    " {'name': 'student20', 'test1': '68', 'test2': '68', 'test3': '81', 'test4': '74', 'test5': '76'},\n",
    " {'name': 'student19', 'test1': '70', 'test2': '70', 'test3': '83', 'test4': '99', 'test5': '97'},\n",
    " {'name': 'student21', 'test1': '74', 'test2': '73', 'test3': '84', 'test4': '84', 'test5': '69'},\n",
    " {'name': 'student22', 'test1': '65', 'test2': '87', 'test3': '85', 'test4': '78', 'test5': '98'},\n",
    " {'name': 'student23', 'test1': '88', 'test2': '95', 'test3': '85', 'test4': '67', 'test5': '93'},\n",
    " {'name': 'student24', 'test1': '80', 'test2': '91', 'test3': '86', 'test4': '99', 'test5': '96'}]\n",
    " \n",
    "assert sorted(lines, key=l_func) == result2"
   ]
  },
  {
   "cell_type": "code",
   "execution_count": 105,
   "metadata": {
    "deletable": false,
    "nbgrader": {
     "cell_type": "code",
     "checksum": "6a8c2b716f4aba8d45a06ace034ca2f0",
     "grade": false,
     "grade_id": "cell-dee8832087e8f013",
     "locked": false,
     "schema_version": 3,
     "solution": true,
     "task": false
    }
   },
   "outputs": [],
   "source": [
    "# Ex6: Reverse Lookup\n",
    "\n",
    "def reverse_lookup(input_dict, test_value):\n",
    "    # Complete this function to find all the keys in a dictionary that map to the input value. \n",
    "    # input1: input_dict (dict)\n",
    "    # input2: test_value\n",
    "    # output: list of keys\n",
    "\n",
    "    result = []\n",
    "    for x in input_dict:\n",
    "        if input_dict[x]==test_value:\n",
    "            result.append(x)\n",
    "    return result"
   ]
  },
  {
   "cell_type": "code",
   "execution_count": 106,
   "metadata": {
    "deletable": false,
    "editable": false,
    "nbgrader": {
     "cell_type": "code",
     "checksum": "f66f461b224a88e7a56146b916e14a9b",
     "grade": true,
     "grade_id": "cell-7766334fd67504c1",
     "locked": true,
     "points": 4,
     "schema_version": 3,
     "solution": false,
     "task": false
    }
   },
   "outputs": [],
   "source": [
    "input_dict = {\n",
    "    'January': 31,\n",
    "    'February': 28,\n",
    "    'March': 31,\n",
    "    'April': 30,\n",
    "    'May': 31,\n",
    "    'June': 30,\n",
    "    'July': 31,\n",
    "    'August': 31,\n",
    "    'September': 30,\n",
    "    'October': 31,\n",
    "    'November': 30,\n",
    "    'December': 31,\n",
    "}\n",
    "\n",
    "\n",
    "\n",
    "assert reverse_lookup(input_dict, 31) == ['January', 'March', 'May', 'July', 'August', 'October', 'December']\n",
    "\n",
    "\n"
   ]
  },
  {
   "cell_type": "code",
   "execution_count": 107,
   "metadata": {
    "deletable": false,
    "editable": false,
    "nbgrader": {
     "cell_type": "code",
     "checksum": "f4a36eccd546437d4944967eb424d63e",
     "grade": true,
     "grade_id": "cell-3377bab1557a5cb6",
     "locked": true,
     "points": 4,
     "schema_version": 3,
     "solution": false,
     "task": false
    }
   },
   "outputs": [],
   "source": [
    "## Hidden tests\n"
   ]
  },
  {
   "cell_type": "markdown",
   "metadata": {
    "deletable": false,
    "editable": false,
    "nbgrader": {
     "cell_type": "markdown",
     "checksum": "80239df03ca57d85d9c2b078e3b6970e",
     "grade": false,
     "grade_id": "cell-5712b9036b189ced",
     "locked": true,
     "schema_version": 3,
     "solution": false,
     "task": false
    }
   },
   "source": [
    "# Exercise 7 - Testing for Fibonacci Number (10 points)\n",
    "\n",
    "Develop functions to handle [Fibonacci numbers](http://mathworld.wolfram.com/FibonacciNumber.html). Try to design the quickest possible algorithm and record the time taken for the code to run.\n",
    "\n",
    "Test if a number belongs to the Fibonacci series, using `if-else` conditions. The logic of testing if a number, $n$, belongs to the Fibonacci series is: if one or both of $(5*n^2 + 4)$ or $(5*n^2 – 4)$ is a perfect square.\n",
    "\n",
    "Here is what you need to do:\n",
    "1. You will need to implement the function `fibonacciGenerator`, which takes no inputs. The function should return a Python `list` of length 25, with first 25 Fibonacci numbers.\n",
    "2. You will need to define a function `fibonacciTester`, which takes a single number as input, and returns `True` if the number belongs to the Fibonacci series, and `False` otherwise. "
   ]
  },
  {
   "cell_type": "code",
   "execution_count": 108,
   "metadata": {
    "deletable": false,
    "nbgrader": {
     "cell_type": "code",
     "checksum": "6a0c0c1a325ef678eddce6ecf1c3f05c",
     "grade": false,
     "grade_id": "cell-c474a19e5d0d021c",
     "locked": false,
     "schema_version": 3,
     "solution": true,
     "task": false
    }
   },
   "outputs": [
    {
     "name": "stdout",
     "output_type": "stream",
     "text": [
      "[0, 1, 1, 2, 3, 5, 8, 13, 21, 34, 55, 89, 144, 233, 377, 610, 987, 1597, 2584, 4181, 6765, 10946, 17711, 28657, 46368]\n",
      "The code took 0 seconds.\n"
     ]
    }
   ],
   "source": [
    "def fibonacciGenerator():\n",
    "    l = [0,1,1]\n",
    "    first = 1\n",
    "    second = 1\n",
    "    for i in range(3,25):\n",
    "        third = first+second\n",
    "        first,second = second,third\n",
    "        l.append(third)\n",
    "    return(l)  \n",
    "import time\n",
    "st = time.time()\n",
    "l = fibonacciGenerator()\n",
    "en = time.time()\n",
    "print(l)\n",
    "print(\"The code took %d seconds.\"%(en - st))  "
   ]
  },
  {
   "cell_type": "code",
   "execution_count": 109,
   "metadata": {
    "deletable": false,
    "editable": false,
    "nbgrader": {
     "cell_type": "code",
     "checksum": "040867d14dfe6619cdead78bdf03ddf6",
     "grade": true,
     "grade_id": "cell-6a8c7d1541bafc35",
     "locked": true,
     "points": 6,
     "schema_version": 3,
     "solution": false,
     "task": false
    }
   },
   "outputs": [],
   "source": [
    "assert fibonacciGenerator() == [0, 1, 1, 2, 3, 5, 8, 13, 21, 34, 55, 89, 144, 233, 377, 610, 987, 1597, 2584, 4181, 6765, 10946, 17711, 28657, 46368]\n"
   ]
  },
  {
   "cell_type": "code",
   "execution_count": 110,
   "metadata": {
    "deletable": false,
    "nbgrader": {
     "cell_type": "code",
     "checksum": "e702d7b3d74029767d57a6bc4c5fe91c",
     "grade": false,
     "grade_id": "cell-f8831cfd2655f057",
     "locked": false,
     "schema_version": 3,
     "solution": true,
     "task": false
    }
   },
   "outputs": [
    {
     "name": "stdout",
     "output_type": "stream",
     "text": [
      "True\n",
      "True\n",
      "True\n",
      "False\n",
      "True\n",
      "False\n",
      "False\n",
      "True\n",
      "False\n",
      "False\n",
      "False\n",
      "False\n",
      "True\n",
      "False\n",
      "False\n",
      "False\n",
      "False\n",
      "False\n",
      "False\n",
      "False\n",
      "The code took 0 seconds.\n"
     ]
    }
   ],
   "source": [
    "def fibonacciTester(number):\n",
    "   \n",
    "    import math\n",
    "    l1,l2 = 1,1\n",
    "    if(number<0):\n",
    "        return False\n",
    "    num1 = (5*(number**2))+4\n",
    "    num2 = (5*(number**2))-4\n",
    "\n",
    "    if(num1>=0):\n",
    "        l1= math.sqrt(num1)\n",
    "\n",
    "    if(num2>=0):\n",
    "        l2 = math.sqrt(num2)\n",
    "\n",
    "    if((l1*10000)%10000==0 or (l2*10000)%10000==0):\n",
    "\n",
    "        return True\n",
    "    else:\n",
    "        return False\n",
    "    \n",
    "\n",
    "import time\n",
    "st = time.time()\n",
    "for i in range(1,21):\n",
    "    v = fibonacciTester(i)\n",
    "    print(v)\n",
    "en = time.time()\n",
    "print(\"The code took %d seconds.\"%(en - st))"
   ]
  },
  {
   "cell_type": "code",
   "execution_count": 111,
   "metadata": {
    "deletable": false,
    "editable": false,
    "nbgrader": {
     "cell_type": "code",
     "checksum": "2388be40dd0545b8793c4295ceea9a26",
     "grade": true,
     "grade_id": "cell-9e8619dada87bec2",
     "locked": true,
     "points": 4,
     "schema_version": 3,
     "solution": false,
     "task": false
    }
   },
   "outputs": [],
   "source": [
    "assert fibonacciTester(0) == True\n",
    "assert fibonacciTester(4) == False\n",
    "assert fibonacciTester(-1) == False\n",
    "assert fibonacciTester(7.1) == False"
   ]
  },
  {
   "cell_type": "markdown",
   "metadata": {
    "deletable": false,
    "editable": false,
    "nbgrader": {
     "cell_type": "markdown",
     "checksum": "5a96593084c2bb2a890467a370e7ff71",
     "grade": false,
     "grade_id": "cell-721a74123c43fd09",
     "locked": true,
     "schema_version": 3,
     "solution": false,
     "task": false
    }
   },
   "source": [
    "# Exercise 8 - Handling Exceptions (10 Points)\n",
    "In this problem you will read from a text file (**data_p2.txt**) included in the assignment. Please download it and store it in the same directory as this notebook. The code for reading data from the file is given below. You need to store the data and perform a simple mathematical operation on each data point. Each line is _supposed_ to contain a floating point number. But what you will observe is that some lines might have erroneous entries. You need to ignore those lines (Hint: Use `Exception` handling). \n",
    "\n",
    "The idea is to implement a function, `computeMedian()`, which reads in a file and computes the median of the numbers and returns the output. You may use the inbuilt function `sort` when computing the median.\n",
    "\n",
    "_DO NOT USE ANY INBUILT OR OTHER FUNCTION TO DIRECTLY COMPUTE MEDIAN_"
   ]
  },
  {
   "cell_type": "code",
   "execution_count": 122,
   "metadata": {
    "deletable": false,
    "nbgrader": {
     "cell_type": "code",
     "checksum": "8bb3f5b8190f1b785fbc2f986af24f0c",
     "grade": false,
     "grade_id": "cell-01db5ad4e9d4bed2",
     "locked": false,
     "schema_version": 3,
     "solution": true,
     "task": false
    }
   },
   "outputs": [],
   "source": [
    "# Reading from a file. The following code just reads in every line in a text file without doing anything with it.\n",
    "# You can use the code in your solution. DO NOT CALL this function in your implementation.\n",
    "\n",
    "def dummyFileReader():\n",
    "    \n",
    "    lines=[]\n",
    "    float_lines = []\n",
    "\n",
    "    with open('data_p2.txt','r') as f: \n",
    "        for line in f: \n",
    "            s = line.strip() \n",
    "            if not s:\n",
    "                continue\n",
    "            lines.append(s)\n",
    "\n",
    "    for ele in lines:\n",
    "        try:\n",
    "            float_lines.append(float(ele))\n",
    "        except ValueError:\n",
    "            continue\n",
    "    return float_lines\n",
    "                       \n",
    "def computeMedian():\n",
    "    \"\"\"\n",
    "    The function has no input parameter, return median value of the list\n",
    "    \"\"\"\n",
    "    # YOUR CODE HERE\n",
    "    my_list=[]\n",
    "    my_list= dummyFileReader()\n",
    "    my_list.sort()\n",
    "    n = len(my_list)\n",
    "    s1 = my_list\n",
    "    return (sum(s1[n//2-1:n//2+1])/2.0, s1[n//2])[n % 2] if n else None \n",
    "\n"
   ]
  },
  {
   "cell_type": "code",
   "execution_count": 123,
   "metadata": {
    "deletable": false,
    "editable": false,
    "nbgrader": {
     "cell_type": "code",
     "checksum": "aa78c1ce8a64c73212484b9afeda14ef",
     "grade": true,
     "grade_id": "cell-4b7ebe1366c99019",
     "locked": true,
     "points": 10,
     "schema_version": 3,
     "solution": false,
     "task": false
    }
   },
   "outputs": [],
   "source": [
    "assert computeMedian() == 0.499675"
   ]
  },
  {
   "cell_type": "markdown",
   "metadata": {
    "deletable": false,
    "editable": false,
    "nbgrader": {
     "cell_type": "markdown",
     "checksum": "8016c3cfac80ae6f376d5da4325a55ab",
     "grade": false,
     "grade_id": "cell-346480affc0c4055",
     "locked": true,
     "schema_version": 3,
     "solution": false,
     "task": false
    }
   },
   "source": [
    "# Exercise 9 - The Two Envelopes Problem (20 Points)\n",
    "The Two Envelopes problem is an interesting decision theory problem.\n",
    "\n",
    "> Consider that you are given two indistinguishable envelopes, each containing money, one contains twice as much as the other. You may pick one envelope and keep the money it contains. Having chosen an envelope at will, but before inspecting it, you are given the chance to switch envelopes. Should you switch?\n",
    "\n",
    "> The game is this: \"stick\" or \"switch\"; It seems obvious that there is no point in switch envelopes as the situation is symmetric. However, because you stand to gain twice as much money if you switch while risking only a loss of half of what you currently have, it is possible to argue that it is more beneficial to switch. The problem is to show what is wrong with this argument.\n",
    "\n",
    "**Two Envelopes problem**: Implement a function, called `simulateProblem()`, that does the game simulation for the two envelopes problem. Run the simulation 1000 times to figure out the empirical (observed) probability of gaining more money when switch and gaining more money when stick to the original choice. Each simulation operates as follows:\n",
    "1. First, randomly pick an envelopes configuration out of the two possible configurations, $(A,2A)$ or $(2A,A)$. In the first configuration, the second envelope has twice the money and in the second configuration, the first envelope has twice the money.\n",
    "2. Next, randomly pick one of the two envelopes. \n",
    "3. Finally, randomly choose to either stick or switch. The program checks if you won (the envelope that picked has more money) or not (the envelope that picked has less money). In case of winning, record if the winning was because of _stick_ or _switch_.\n",
    "\n",
    "You can perform the _random_ choice as follows, using the `np.random.randint()` method.\n",
    "```python\n",
    "import numpy as np\n",
    "print(np.random.randint(2))\n",
    "```\n",
    "The `simulateProblem()` function takes no arguments and returns two values, first is a boolean output which is `True` if you win and `False` if you lose. In case of a win, the second output is `True` if the win was due to _stick_ or the lose was due to _switch_ and `False` if the win was due to _switch_ or the lose was due to _stick_.\n",
    "\n",
    "Once the method `simulateProblem()` that does the above steps and returns \"stick\",or \"switch\", depending on the win/loss scenario, run the method 1000 times and count the number of times the win was due to _stick_ to the pick in Step 2, and number of times the win was due to _switch_ the envelope."
   ]
  },
  {
   "cell_type": "code",
   "execution_count": 114,
   "metadata": {
    "deletable": false,
    "nbgrader": {
     "cell_type": "code",
     "checksum": "235056e14a8e134fc79f0f1dd455ab78",
     "grade": false,
     "grade_id": "cell-52d62a9c745e06f4",
     "locked": false,
     "schema_version": 3,
     "solution": true,
     "task": false
    }
   },
   "outputs": [],
   "source": [
    "import numpy as np\n",
    "\n",
    "def simulateProblem():\n",
    "    config=np.random.randint(2)   \n",
    "    if config==0:                 \n",
    "        a,b=(1,2)\n",
    "    else:\n",
    "        a,b=(2,1)\n",
    "    first=np.random.randint(2)\n",
    "    first_index=np.random.randint(2)\n",
    "    switch_or_not=np.random.randint(2)\n",
    "    final_index=(first_index+switch_or_not)%2  \n",
    "    won=0\n",
    "    loose=0\n",
    "\n",
    "    if first^config==0:  \n",
    "        if final_index==0:  \n",
    "            loose=1\n",
    "        elif final_index==1: \n",
    "            won=1\n",
    "    elif first^config==1:\n",
    "        if final_index==0:  \n",
    "            won=1\n",
    "        elif final_index==1: \n",
    "            loose=1\n",
    "    a=False\n",
    "    b=False\n",
    "    \n",
    "    if won==1:\n",
    "        a=True\n",
    "    if switch_or_not==0:\n",
    "        b=True\n",
    "    return (a,b)"
   ]
  },
  {
   "cell_type": "code",
   "execution_count": 115,
   "metadata": {
    "deletable": false,
    "editable": false,
    "nbgrader": {
     "cell_type": "code",
     "checksum": "b78acd172038c97bb941d9b7ce645e8c",
     "grade": true,
     "grade_id": "cell-5cf7633d1675fcf4",
     "locked": true,
     "points": 10,
     "schema_version": 3,
     "solution": false,
     "task": false
    }
   },
   "outputs": [],
   "source": [
    "assert type(simulateProblem()[0]) == bool\n",
    "assert type(simulateProblem()[1]) == bool"
   ]
  },
  {
   "cell_type": "code",
   "execution_count": 130,
   "metadata": {
    "deletable": false,
    "nbgrader": {
     "cell_type": "code",
     "checksum": "42949801f1adb6f54cf39d9fa087c2bb",
     "grade": false,
     "grade_id": "cell-42a43b6f08c69853",
     "locked": false,
     "schema_version": 3,
     "solution": true,
     "task": false
    }
   },
   "outputs": [],
   "source": [
    "def run_simulation():\n",
    "    \"\"\"\n",
    "    The function Run the simulation 10000 times to figure out \n",
    "    the empirical (observed) probability of gaining more money when switch \n",
    "    and gaining more money when stick to the original choice.\n",
    "    Return the probability of win due to stick and win due to switch\n",
    "    \"\"\"\n",
    "    stsw_dict ={\"stick\": 0, \"switch\" : 0}\n",
    "    for i in range(1000):\n",
    "        import random\n",
    "        fold_config = random.choices([(\"A\",\"2A\"),(\"2A\",\"A\")])[0]\n",
    "        fold = random.choices(fold_config)[0]\n",
    "        stsw = random.choices([\"stick\",\"switch\"])[0]\n",
    "        if fold == \"A\":\n",
    "            if stsw == \"switch\":\n",
    "                stsw_dict[\"switch\"] = stsw_dict[\"switch\"]+1\n",
    "        elif fold == \"2A\":\n",
    "            if stsw == \"stick\":\n",
    "                stsw_dict[\"stick\"] = stsw_dict[\"stick\"]+1\n",
    "    return((stsw_dict[\"stick\"]/1000),(stsw_dict[\"switch\"]/1000))\n"
   ]
  },
  {
   "cell_type": "code",
   "execution_count": 131,
   "metadata": {
    "deletable": false,
    "editable": false,
    "nbgrader": {
     "cell_type": "code",
     "checksum": "dc2f17db57be8d8b9768f50a384db48d",
     "grade": true,
     "grade_id": "cell-01ef580c4068da3b",
     "locked": true,
     "points": 6,
     "schema_version": 3,
     "solution": false,
     "task": false
    }
   },
   "outputs": [],
   "source": [
    "win_due_to_stick, win_due_to_switch = run_simulation()\n",
    "assert(abs(win_due_to_stick-0.25) < 0.05)\n",
    "assert(abs(win_due_to_switch-0.25) < 0.05)"
   ]
  },
  {
   "cell_type": "markdown",
   "metadata": {
    "deletable": false,
    "editable": false,
    "nbgrader": {
     "cell_type": "markdown",
     "checksum": "e5e82c466ad0eab72def13546356ffe5",
     "grade": false,
     "grade_id": "cell-11f7da6b782aee7d",
     "locked": true,
     "points": 6,
     "schema_version": 3,
     "solution": false,
     "task": true
    }
   },
   "source": [
    "#  Give your observation and argument in this cell:\n",
    "## Which is better - stick or switch ？"
   ]
  },
  {
   "cell_type": "markdown",
   "metadata": {},
   "source": [
    "#stick and switch has almost equal probability and it is the choice made manual grading between the both"
   ]
  }
 ],
 "metadata": {
  "kernelspec": {
   "display_name": "Python 3 (ipykernel)",
   "language": "python",
   "name": "python3"
  },
  "language_info": {
   "codemirror_mode": {
    "name": "ipython",
    "version": 3
   },
   "file_extension": ".py",
   "mimetype": "text/x-python",
   "name": "python",
   "nbconvert_exporter": "python",
   "pygments_lexer": "ipython3",
   "version": "3.8.9"
  }
 },
 "nbformat": 4,
 "nbformat_minor": 4
}
